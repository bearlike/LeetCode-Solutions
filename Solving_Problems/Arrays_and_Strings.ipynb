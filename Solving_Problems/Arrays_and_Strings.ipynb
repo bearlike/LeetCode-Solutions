{
 "cells": [
  {
   "cell_type": "markdown",
   "id": "6707eefa-729d-4870-83e6-d90e7a410e96",
   "metadata": {},
   "source": [
    "# Solving Problems: Arrays and Strings "
   ]
  },
  {
   "cell_type": "markdown",
   "id": "07836c9e-f039-46d9-80ea-60727887a85a",
   "metadata": {
    "execution": {
     "iopub.execute_input": "2021-05-13T14:36:34.693977Z",
     "iopub.status.busy": "2021-05-13T14:36:34.693261Z",
     "iopub.status.idle": "2021-05-13T14:36:34.704684Z",
     "shell.execute_reply": "2021-05-13T14:36:34.703737Z",
     "shell.execute_reply.started": "2021-05-13T14:36:34.693888Z"
    },
    "heading_collapsed": "true",
    "tags": []
   },
   "source": [
    "## Common Packages and Methods"
   ]
  },
  {
   "cell_type": "code",
   "execution_count": 1,
   "id": "be21ea4c-45e3-4f3f-a8e4-0fa0be0496a8",
   "metadata": {
    "execution": {
     "iopub.execute_input": "2021-06-21T13:24:13.510310Z",
     "iopub.status.busy": "2021-06-21T13:24:13.510049Z",
     "iopub.status.idle": "2021-06-21T13:24:13.861453Z",
     "shell.execute_reply": "2021-06-21T13:24:13.860765Z",
     "shell.execute_reply.started": "2021-06-21T13:24:13.510234Z"
    },
    "tags": []
   },
   "outputs": [],
   "source": [
    "from IPython.display import SVG, HTML, IFrame\n",
    "from IPython.display import display\n",
    "from graphviz import Source\n",
    "from collections import deque\n",
    "from typing import List\n",
    "from numpy import inf\n",
    "import operator\n",
    "import codecs\n",
    "import os\n",
    "import re"
   ]
  },
  {
   "cell_type": "markdown",
   "id": "9e724c5b-bc2a-4887-9cde-9c50d79b3555",
   "metadata": {
    "heading_collapsed": "true",
    "tags": []
   },
   "source": [
    "## Two Sums"
   ]
  },
  {
   "cell_type": "markdown",
   "id": "a1875ec5-4c93-4c84-ad0c-3703dd2567b3",
   "metadata": {},
   "source": [
    "![](https://img.shields.io/badge/Difficulty-Easy-green)&nbsp;[![](https://img.shields.io/badge/Link%20to%20Problem-blue)](https://leetcode.com/problems/two-sum)\n",
    "\n",
    "- Given an array of integers `nums` and an integer `target`, return indices of the two numbers such that they add up to `target`.\n",
    "- You may assume that each input would have **exactly one solution**, and you may not use the same element twice.\n",
    "- You can return the answer in any order.\n",
    "\n",
    " \n",
    "### Examples \n",
    "#### Example 1:\n",
    "```\n",
    "Input: nums = [2,7,11,15], target = 9\n",
    "Output: [0,1]\n",
    "Output: Because nums[0] + nums[1] == 9, we return [0, 1].\n",
    "```\n",
    "#### Example 2:\n",
    "```\n",
    "Input: nums = [3,2,4], target = 6\n",
    "Output: [1,2]\n",
    "```\n",
    "#### Example 3:\n",
    "```\n",
    "Input: nums = [3,3], target = 6\n",
    "Output: [0,1]\n",
    "```\n",
    "\n",
    "### Constraints:\n",
    "- 2 <= `nums.length` <= 103\n",
    "- 109 <= `nums[i]` <= 109\n",
    "- 109 <= `target` <= 109\n",
    "- **Only one valid answer exists.**\n",
    "\n",
    "### Solution"
   ]
  },
  {
   "cell_type": "code",
   "execution_count": 2,
   "id": "8a67b77d-ee4c-41dd-9f83-867fd3facdce",
   "metadata": {
    "execution": {
     "iopub.execute_input": "2021-06-21T13:24:13.863185Z",
     "iopub.status.busy": "2021-06-21T13:24:13.862957Z",
     "iopub.status.idle": "2021-06-21T13:24:13.871692Z",
     "shell.execute_reply": "2021-06-21T13:24:13.870821Z",
     "shell.execute_reply.started": "2021-06-21T13:24:13.863148Z"
    },
    "tags": []
   },
   "outputs": [
    {
     "name": "stdout",
     "output_type": "stream",
     "text": [
      "Output: [0, 1]\n",
      "Output: [1, 2]\n",
      "Output: [0, 1]\n"
     ]
    }
   ],
   "source": [
    "class Solution:\n",
    "    def twoSum(self, nums: List[int], target: int):\n",
    "        for i in range(0, len(nums)):\n",
    "            for j in range(i+1, len(nums)):\n",
    "                if nums[i] + nums[j] == target:\n",
    "                    print(\"Output:\", [i , j])\n",
    "                    return \n",
    "                \n",
    "Solution().twoSum(nums=[2,7,11,15], target=9)\n",
    "Solution().twoSum(nums=[3,2,4], target=6)\n",
    "Solution().twoSum(nums=[3,3], target=6)"
   ]
  },
  {
   "cell_type": "markdown",
   "id": "f0a64268-fde8-47f5-a8ef-fc03c36ace44",
   "metadata": {
    "heading_collapsed": "true",
    "tags": []
   },
   "source": [
    "## Trapping Rain Water"
   ]
  },
  {
   "cell_type": "markdown",
   "id": "9d517a34-f417-49bb-bfa9-51d248e344ea",
   "metadata": {},
   "source": [
    "![](https://img.shields.io/badge/Difficulty-Hard-red) &nbsp;[![](https://img.shields.io/badge/Link%20to%20Problem-blue)](https://leetcode.com/problems/trapping-rain-water/)\n",
    "\n",
    "### Desciption\n",
    "Given `n` non-negative integers representing an elevation map where the width of each bar is `1`, compute how much water it can trap after raining.\n",
    "\n",
    "### Examples:\n",
    "#### Example 1:\n",
    "![](https://assets.leetcode.com/uploads/2018/10/22/rainwatertrap.png)\n",
    "```\n",
    "Input: height = [0,1,0,2,1,0,1,3,2,1,2,1]\n",
    "Output: 6\n",
    "```\n",
    "**Explanation**: The above elevation map (black section) is represented by array `[0, 1, 0, 2, 1, 0, 1, 3, 2, 1, 2, 1]`. In this case, 6 units of rain water (blue section) are being trapped.\n",
    "\n",
    "#### Example 2:\n",
    "```\n",
    "Input: height = [4,2,0,3,2,5]\n",
    "Output: 9\n",
    "```\n",
    "\n",
    "### Constraints:\n",
    "```\n",
    "n == height.length\n",
    "0 <= n <= 3 * 104\n",
    "0 <= height[i] <= 105\n",
    "```"
   ]
  },
  {
   "cell_type": "markdown",
   "id": "476c3023-671a-41df-8b7e-aefe78a6159d",
   "metadata": {},
   "source": [
    "### Solution 1"
   ]
  },
  {
   "cell_type": "code",
   "execution_count": 3,
   "id": "3d713593-7c02-4677-9e72-ef0109b5bf42",
   "metadata": {
    "execution": {
     "iopub.execute_input": "2021-06-21T13:24:13.873459Z",
     "iopub.status.busy": "2021-06-21T13:24:13.873163Z",
     "iopub.status.idle": "2021-06-21T13:24:13.966845Z",
     "shell.execute_reply": "2021-06-21T13:24:13.964883Z",
     "shell.execute_reply.started": "2021-06-21T13:24:13.873423Z"
    },
    "tags": []
   },
   "outputs": [
    {
     "name": "stdout",
     "output_type": "stream",
     "text": [
      "Output: 6\n"
     ]
    }
   ],
   "source": [
    "# Time Complexity: O(n) ; Space Complexity: O(n)\n",
    "def trap_1(h: List[int]) -> int:\n",
    "    vol, N = 0, len(h)\n",
    "    LM, RM = 0, 0\n",
    "    RMD = [0] * N\n",
    "    for j in range(N-1, -1, -1):\n",
    "        RM = max(RM, h[j])\n",
    "        RMD[j] = RM\n",
    "    for i in range(0, N):\n",
    "        LM = max(LM, h[i])\n",
    "        vol += min(LM, RMD[i]) - h[i]        \n",
    "    return vol\n",
    "\n",
    "print(\"Output:\", trap_1(h = [0,1,0,2,1,0,1,3,2,1,2,1]))"
   ]
  },
  {
   "cell_type": "markdown",
   "id": "fedf537f-41de-4c70-b8a6-b4021b595b3e",
   "metadata": {},
   "source": [
    "### Solution 2"
   ]
  },
  {
   "cell_type": "code",
   "execution_count": 4,
   "id": "e15e3795-6977-4aca-adb5-679372541e1b",
   "metadata": {
    "execution": {
     "iopub.execute_input": "2021-06-21T13:24:13.970733Z",
     "iopub.status.busy": "2021-06-21T13:24:13.970017Z",
     "iopub.status.idle": "2021-06-21T13:24:14.085816Z",
     "shell.execute_reply": "2021-06-21T13:24:14.083921Z",
     "shell.execute_reply.started": "2021-06-21T13:24:13.970638Z"
    },
    "tags": []
   },
   "outputs": [
    {
     "name": "stdout",
     "output_type": "stream",
     "text": [
      "Output: 6\n"
     ]
    }
   ],
   "source": [
    "# Works Level by level may trigger Time limit exceeded on higher levels\n",
    "def trap_2(h: List[int]) -> int:\n",
    "    if len(h) == 0: return 0\n",
    "    floors, volume  = max(h), 0\n",
    "    a = False\n",
    "    for f in range(floors):\n",
    "        blocks = []\n",
    "        for i in range(len(h)):\n",
    "            if h[i]>0: \n",
    "                blocks.append(i)\n",
    "                if len(blocks) == 2:\n",
    "                    volume += (blocks[1] - blocks[0])-1\n",
    "                    blocks = blocks[1:]\n",
    "                h[i]-=1\n",
    "    return volume\n",
    "\n",
    "print(\"Output:\", trap_2(h=[0,1,0,2,1,0,1,3,2,1,2,1]))"
   ]
  },
  {
   "cell_type": "markdown",
   "id": "4cb0c83a-085b-4d4a-b73e-48af537b8558",
   "metadata": {
    "heading_collapsed": "true",
    "tags": []
   },
   "source": [
    "## Longest Substring Without Repeating Characters"
   ]
  },
  {
   "cell_type": "markdown",
   "id": "fa8dc063-0d6d-4d2d-84eb-30837bb5b128",
   "metadata": {},
   "source": [
    "![](https://img.shields.io/badge/Difficulty-Medium-yellow)&nbsp;[![](https://img.shields.io/badge/Link%20to%20Problem-blue)](https://leetcode.com/problems/longest-substring-without-repeating-characters/)\n",
    "\n",
    "Given a string s, find the length of the longest substring without repeating characters.\n",
    "\n",
    "### Example 1:\n",
    "```\n",
    "Input: s = \"abcabcbb\"\n",
    "Output: 3\n",
    "Explanation: The answer is \"abc\", with the length of 3.\n",
    "```\n",
    "\n",
    "### Example 2:\n",
    "```\n",
    "Input: s = \"bbbbb\"\n",
    "Output: 1\n",
    "Explanation: The answer is \"b\", with the length of 1.\n",
    "```\n",
    "\n",
    "### Example 3:\n",
    "```\n",
    "Input: s = \"pwwkew\"\n",
    "Output: 3\n",
    "Explanation: The answer is \"wke\", with the length of 3.\n",
    "Notice that the answer must be a substring, \"pwke\" is a subsequence and not a substring.\n",
    "```\n",
    "\n",
    "### Example 4:\n",
    "```\n",
    "Input: s = \"\"\n",
    "Output: 0\n",
    "```\n",
    "\n",
    "### Constraints:\n",
    "- 0 <= `s.length` <= 5 * 104\n",
    "- `s` consists of English letters, digits, symbols and spaces."
   ]
  },
  {
   "cell_type": "code",
   "execution_count": 5,
   "id": "10ffaac6-63dd-4e10-9ca7-c9e585c593fd",
   "metadata": {
    "execution": {
     "iopub.execute_input": "2021-06-21T13:24:14.088844Z",
     "iopub.status.busy": "2021-06-21T13:24:14.088323Z",
     "iopub.status.idle": "2021-06-21T13:24:14.175793Z",
     "shell.execute_reply": "2021-06-21T13:24:14.174342Z",
     "shell.execute_reply.started": "2021-06-21T13:24:14.088777Z"
    },
    "tags": []
   },
   "outputs": [
    {
     "name": "stdout",
     "output_type": "stream",
     "text": [
      "Output: 3\n"
     ]
    }
   ],
   "source": [
    "class Solution:\n",
    "    def lengthOfLongestSubstring(self, x: str) -> int:\n",
    "        longest=0\n",
    "        for i in range(len(x)):\n",
    "            string = \"\"\n",
    "            for j in range(i,len(x)):\n",
    "                if(x[j] in string): break\n",
    "                else: string+=x[j]\n",
    "            if(len(string)>longest):\n",
    "                longest = len(string)\n",
    "        print(\"Output:\", longest)\n",
    "\n",
    "Solution().lengthOfLongestSubstring(x=\"abcabcbb\")"
   ]
  },
  {
   "cell_type": "markdown",
   "id": "38bb5f76-dad8-4aa9-942b-480d217b9633",
   "metadata": {
    "execution": {
     "iopub.execute_input": "2021-06-20T18:24:37.846612Z",
     "iopub.status.busy": "2021-06-20T18:24:37.845917Z",
     "iopub.status.idle": "2021-06-20T18:24:37.853700Z",
     "shell.execute_reply": "2021-06-20T18:24:37.852001Z",
     "shell.execute_reply.started": "2021-06-20T18:24:37.846538Z"
    },
    "heading_collapsed": "true",
    "tags": []
   },
   "source": [
    "## Reorder Data in Log Files"
   ]
  },
  {
   "cell_type": "markdown",
   "id": "549b0499-849c-453e-858a-7c8361beb12b",
   "metadata": {
    "execution": {
     "iopub.execute_input": "2021-06-20T18:26:34.501647Z",
     "iopub.status.busy": "2021-06-20T18:26:34.501054Z",
     "iopub.status.idle": "2021-06-20T18:26:35.223568Z",
     "shell.execute_reply": "2021-06-20T18:26:35.221331Z",
     "shell.execute_reply.started": "2021-06-20T18:26:34.501582Z"
    }
   },
   "source": [
    "![](https://img.shields.io/badge/Difficulty-Easy-green)&nbsp;[![](https://img.shields.io/badge/Link%20to%20Problem-blue)](https://leetcode.com/problems/reorder-data-in-log-files/)\n"
   ]
  },
  {
   "cell_type": "markdown",
   "id": "a9a54a1b-018d-470c-9c88-ca4361874671",
   "metadata": {},
   "source": [
    "You are given an array of logs. Each log is a space-delimited string of words, where the first word is the identifier.\n",
    "\n",
    "There are two types of logs:\n",
    "- **Letter-logs**: All words (except the identifier) consist of lowercase English letters.\n",
    "- **Digit-logs**: All words (except the identifier) consist of digits.\n",
    "\n",
    "Reorder these logs so that:\n",
    "- The letter-logs come before all digit-logs.\n",
    "- The letter-logs are sorted lexicographically by their contents. If their contents are the same, then sort them lexicographically by their identifiers.\n",
    "- The digit-logs maintain their relative ordering.\n",
    "Return the final order of the logs.\n",
    "\n",
    "\n",
    "### Example 1:\n",
    "```\n",
    "Input: logs = [\"dig1 8 1 5 1\",\"let1 art can\",\"dig2 3 6\",\"let2 own kit dig\",\"let3 art zero\"]\n",
    "Output: [\"let1 art can\",\"let3 art zero\",\"let2 own kit dig\",\"dig1 8 1 5 1\",\"dig2 3 6\"]\n",
    "Explanation:\n",
    "The letter-log contents are all different, so their ordering is \"art can\", \"art zero\", \"own kit dig\".\n",
    "The digit-logs have a relative order of \"dig1 8 1 5 1\", \"dig2 3 6\".\n",
    "```"
   ]
  },
  {
   "cell_type": "markdown",
   "id": "876bcdec-5c60-43e4-b5d8-ff779c750dfc",
   "metadata": {
    "execution": {
     "iopub.execute_input": "2021-06-20T18:29:19.500176Z",
     "iopub.status.busy": "2021-06-20T18:29:19.499694Z",
     "iopub.status.idle": "2021-06-20T18:29:19.506737Z",
     "shell.execute_reply": "2021-06-20T18:29:19.504776Z",
     "shell.execute_reply.started": "2021-06-20T18:29:19.500119Z"
    },
    "tags": []
   },
   "source": [
    "### Solution 1"
   ]
  },
  {
   "cell_type": "code",
   "execution_count": 6,
   "id": "9a5517ff-f79f-4f3c-a5e9-e90f6f298eb6",
   "metadata": {
    "execution": {
     "iopub.execute_input": "2021-06-21T13:24:14.177923Z",
     "iopub.status.busy": "2021-06-21T13:24:14.177597Z",
     "iopub.status.idle": "2021-06-21T13:24:14.298410Z",
     "shell.execute_reply": "2021-06-21T13:24:14.296911Z",
     "shell.execute_reply.started": "2021-06-21T13:24:14.177881Z"
    },
    "tags": []
   },
   "outputs": [
    {
     "name": "stdout",
     "output_type": "stream",
     "text": [
      "['let1 art can', 'let3 art zero', 'let2 own kit dig', 'dig1 8 1 5 1', 'dig2 3 6']\n"
     ]
    }
   ],
   "source": [
    "# Time Complexity: O(n) + O(n^2)\n",
    "class Solution:\n",
    "    def bubblesort(self, logs):\n",
    "        for iter_num in range(len(logs)-1,0,-1):\n",
    "            for idx in range(iter_num):\n",
    "                lt_1 = logs[idx].split(\" \", 1)\n",
    "                lt_2 = logs[idx+1].split(\" \", 1)\n",
    "                if (lt_1[1] > lt_2[1]) or (lt_1[1] == lt_2[1] and lt_1[0] > lt_2[0]):\n",
    "                    logs[idx], logs[idx+1] = logs[idx+1], logs[idx]\n",
    "        return logs\n",
    "                \n",
    "    def reorderLogFiles(self, logs: List[str]) -> List[str]:\n",
    "        letter_logs, digit_logs = [], []\n",
    "        for l in logs:\n",
    "            lt = l.split(\" \", 1)\n",
    "            if any(char.isdigit() for char in lt[1]):\n",
    "                digit_logs.append(l)\n",
    "            else:\n",
    "                letter_logs.append(l)\n",
    "        return self.bubblesort(letter_logs) + digit_logs\n",
    "    \n",
    "logs = [\"dig1 8 1 5 1\",\"let1 art can\",\"dig2 3 6\",\"let2 own kit dig\",\"let3 art zero\"]\n",
    "print(Solution().reorderLogFiles(logs))"
   ]
  },
  {
   "cell_type": "markdown",
   "id": "823c378e-c9a0-4cdf-b0ba-989b4e23ebe2",
   "metadata": {
    "heading_collapsed": "true",
    "tags": []
   },
   "source": [
    "## 3Sum"
   ]
  },
  {
   "cell_type": "markdown",
   "id": "565a941b-eac1-4442-9024-53d0a82d6a1e",
   "metadata": {},
   "source": [
    "![](https://img.shields.io/badge/Difficulty-Medium-yellow)&nbsp;[![](https://img.shields.io/badge/Link%20to%20Problem-blue)](https://leetcode.com/problems/3sum/)\n",
    "\n",
    "Given an integer array nums, return all the triplets `[nums[i], nums[j], nums[k]]` such that `i != j`, `i != k`, and `j != k`, and `nums[i] + nums[j] + nums[k] == 0`. Notice that the solution set must not contain duplicate triplets.\n",
    "\n",
    " \n",
    "### Example 1:\n",
    "```\n",
    "Input: nums = [-1,0,1,2,-1,-4]\n",
    "Output: [[-1,-1,2],[-1,0,1]]\n",
    "```"
   ]
  },
  {
   "cell_type": "markdown",
   "id": "50279733-b799-4cb6-a230-a72a57e1722a",
   "metadata": {
    "heading_collapsed": "true",
    "tags": []
   },
   "source": [
    "### Solution 1"
   ]
  },
  {
   "cell_type": "code",
   "execution_count": 7,
   "id": "688365a5-2e02-47f6-9ef1-58cac92c8ea2",
   "metadata": {
    "execution": {
     "iopub.execute_input": "2021-06-21T13:24:14.302301Z",
     "iopub.status.busy": "2021-06-21T13:24:14.301859Z",
     "iopub.status.idle": "2021-06-21T13:24:14.414136Z",
     "shell.execute_reply": "2021-06-21T13:24:14.411947Z",
     "shell.execute_reply.started": "2021-06-21T13:24:14.302224Z"
    },
    "tags": []
   },
   "outputs": [
    {
     "name": "stdout",
     "output_type": "stream",
     "text": [
      "Output: [[1, 0, -1], [2, -1, -1]]\n"
     ]
    }
   ],
   "source": [
    "# Reducing the Problem to a Two Sum Problem\n",
    "# Runtime: 3528 ms ; Time Complexity (worst): O(n^2)\n",
    "class Solution:\n",
    "    def threeSum(self, nums: List[int]) -> List[List[int]]:\n",
    "        res, output = [], []\n",
    "        nums.sort()\n",
    "        \n",
    "        for i in range(len(nums)-2):\n",
    "            if i > 0 and nums[i] == nums[i-1]:\n",
    "                continue\n",
    "            output_2sum = self.twoSum(nums[i+1:], -nums[i])\n",
    "            for idx in output_2sum:\n",
    "                instance = idx+[nums[i]]\n",
    "                res.append(instance)\n",
    "                \n",
    "        for idx in res:\n",
    "            if idx not in output:\n",
    "                output.append(idx)\n",
    "        return output\n",
    "    \n",
    "    \n",
    "    def twoSum(self, nums, target):\n",
    "        # Time Complexity: O(n)\n",
    "        seen, res = {}, []\n",
    "        for i, value in enumerate(nums): \n",
    "            remaining = target - nums[i] \n",
    "            if remaining in seen: \n",
    "                res.append([value, remaining])  \n",
    "            else:\n",
    "                seen[value] = i  \n",
    "        return res\n",
    "\n",
    "t = Solution().threeSum([-1,0,1,2,-1,-4])\n",
    "print(\"Output:\", t)"
   ]
  },
  {
   "cell_type": "markdown",
   "id": "c21dcde9-9266-4f6b-995a-1297a092c158",
   "metadata": {
    "tags": []
   },
   "source": [
    "### Solution 2"
   ]
  },
  {
   "cell_type": "code",
   "execution_count": 8,
   "id": "7d23f469-bd8f-47b9-a799-78430164cdbf",
   "metadata": {
    "execution": {
     "iopub.execute_input": "2021-06-21T13:24:14.417821Z",
     "iopub.status.busy": "2021-06-21T13:24:14.417267Z",
     "iopub.status.idle": "2021-06-21T13:24:14.496970Z",
     "shell.execute_reply": "2021-06-21T13:24:14.495231Z",
     "shell.execute_reply.started": "2021-06-21T13:24:14.417749Z"
    },
    "tags": []
   },
   "outputs": [
    {
     "name": "stdout",
     "output_type": "stream",
     "text": [
      "Output: [[-1, -1, 2], [-1, 0, 1]]\n"
     ]
    }
   ],
   "source": [
    "# Using Two Pointers\n",
    "# Runtime: 856 ms ; Time Complexity (worst): O(n^2)\n",
    "class Solution:\n",
    "    def threeSum(self, nums: List[int]) -> List[List[int]]:\n",
    "        nums.sort()\n",
    "        res = []\n",
    "        for i in range(len(nums) -2):\n",
    "            if i > 0 and nums[i] == nums[i-1]:\n",
    "                continue\n",
    "            left = i + 1\n",
    "            right = len(nums) - 1\n",
    "            while left < right:  \n",
    "                temp = nums[i] + nums[left] + nums[right]\n",
    "                if temp > 0: right -= 1\n",
    "                elif temp < 0: left += 1\n",
    "                else:\n",
    "                    res.append([nums[i], nums[left], nums[right]])\n",
    "                    while left < right and nums[left] == nums[left + 1]: left += 1\n",
    "                    while left < right and nums[right] == nums[right-1]: right -= 1   \n",
    "                    right -= 1 \n",
    "                    left += 1 \n",
    "        return res\n",
    "    \n",
    "t = Solution().threeSum([-1,0,1,2,-1,-4])\n",
    "print(\"Output:\", t)"
   ]
  },
  {
   "cell_type": "markdown",
   "id": "dd5812ed-a9f1-40b3-a944-6206e3426974",
   "metadata": {
    "tags": []
   },
   "source": [
    "## Letter Combinations of a Phone Number"
   ]
  },
  {
   "cell_type": "markdown",
   "id": "52daec0d-c6a0-4362-892c-879e6cdda42f",
   "metadata": {},
   "source": [
    "![](https://img.shields.io/badge/Difficulty-Medium-yellow)&nbsp;[![](https://img.shields.io/badge/Link%20to%20Problem-blue)](https://leetcode.com/problems/letter-combinations-of-a-phone-number/)\n",
    "\n",
    "Given a string containing digits from `2-9` inclusive, return all possible letter combinations that the number could represent. Return the answer in any order.\n",
    "\n",
    "A mapping of digit to letters (just like on the telephone buttons) is given below. Note that `1` does not map to any letters.\n",
    "\n",
    "![](https://upload.wikimedia.org/wikipedia/commons/thumb/7/73/Telephone-keypad2.svg/200px-Telephone-keypad2.svg.png)\n",
    "\n",
    "### Examples\n",
    "```\n",
    "Input: digits = \"23\"\n",
    "Output: [\"ad\",\"ae\",\"af\",\"bd\",\"be\",\"bf\",\"cd\",\"ce\",\"cf\"]\n",
    "```\n",
    "```\n",
    "Input: digits = \"\"\n",
    "Output: []\n",
    "```\n",
    "```\n",
    "Input: digits = \"2\"\n",
    "Output: [\"a\",\"b\",\"c\"]\n",
    "```"
   ]
  },
  {
   "cell_type": "markdown",
   "id": "c075ac03-6d0e-42d8-9473-77bcf5dafedd",
   "metadata": {
    "tags": []
   },
   "source": [
    "### Solution 1"
   ]
  },
  {
   "cell_type": "code",
   "execution_count": 9,
   "id": "0332d83f-2e4c-4b22-8f31-54a1aa8ca752",
   "metadata": {
    "execution": {
     "iopub.execute_input": "2021-06-21T13:24:14.499574Z",
     "iopub.status.busy": "2021-06-21T13:24:14.499242Z",
     "iopub.status.idle": "2021-06-21T13:24:14.637065Z",
     "shell.execute_reply": "2021-06-21T13:24:14.634977Z",
     "shell.execute_reply.started": "2021-06-21T13:24:14.499532Z"
    },
    "tags": []
   },
   "outputs": [
    {
     "name": "stdout",
     "output_type": "stream",
     "text": [
      "Output: ['ad', 'ae', 'af', 'bd', 'be', 'bf', 'cd', 'ce', 'cf']\n"
     ]
    }
   ],
   "source": [
    "# Using Backtracking ; Time Complexity: O(M^N * N)\n",
    "# Space complexity: O(N)\n",
    "# Where,  N is the length of input digits\n",
    "# M is the number of letters corresponding to a digit\n",
    "class Solution:\n",
    "    def letterCombinations(self, digits: str) -> List[str]:\n",
    "        if len(digits) == 0:  return []\n",
    "        \n",
    "        t9 = {\"2\": \"abc\", \"3\": \"def\", \"4\": \"ghi\", \"5\": \"jkl\", \n",
    "              \"6\": \"mno\", \"7\": \"pqrs\", \"8\": \"tuv\", \"9\": \"wxyz\"}\n",
    "        \n",
    "        def backtrack(idx=0, path=[]):\n",
    "            if len(digits) == len(path):\n",
    "                ans.append(''.join(path))\n",
    "                return\n",
    "            for l in t9[digits[idx]]:\n",
    "                backtrack(idx+1, path+[l])\n",
    "                \n",
    "        ans = []\n",
    "        backtrack()\n",
    "        return ans\n",
    "\n",
    "t = Solution().letterCombinations(\"23\")\n",
    "print(\"Output:\", t)"
   ]
  }
 ],
 "metadata": {
  "kernelspec": {
   "display_name": "Python 3",
   "language": "python",
   "name": "python3"
  },
  "language_info": {
   "codemirror_mode": {
    "name": "ipython",
    "version": 3
   },
   "file_extension": ".py",
   "mimetype": "text/x-python",
   "name": "python",
   "nbconvert_exporter": "python",
   "pygments_lexer": "ipython3",
   "version": "3.9.2"
  }
 },
 "nbformat": 4,
 "nbformat_minor": 5
}
