{
 "cells": [
  {
   "cell_type": "markdown",
   "id": "6707eefa-729d-4870-83e6-d90e7a410e96",
   "metadata": {},
   "source": [
    "# Solving Problems: Arrays and Strings "
   ]
  },
  {
   "cell_type": "markdown",
   "id": "07836c9e-f039-46d9-80ea-60727887a85a",
   "metadata": {
    "execution": {
     "iopub.execute_input": "2021-05-13T14:36:34.693977Z",
     "iopub.status.busy": "2021-05-13T14:36:34.693261Z",
     "iopub.status.idle": "2021-05-13T14:36:34.704684Z",
     "shell.execute_reply": "2021-05-13T14:36:34.703737Z",
     "shell.execute_reply.started": "2021-05-13T14:36:34.693888Z"
    },
    "heading_collapsed": "true",
    "tags": []
   },
   "source": [
    "## Common Packages and Methods"
   ]
  },
  {
   "cell_type": "code",
   "execution_count": 24,
   "id": "be21ea4c-45e3-4f3f-a8e4-0fa0be0496a8",
   "metadata": {
    "execution": {
     "iopub.execute_input": "2021-06-03T19:10:10.569365Z",
     "iopub.status.busy": "2021-06-03T19:10:10.568569Z",
     "iopub.status.idle": "2021-06-03T19:10:10.581494Z",
     "shell.execute_reply": "2021-06-03T19:10:10.580727Z",
     "shell.execute_reply.started": "2021-06-03T19:10:10.569277Z"
    },
    "tags": []
   },
   "outputs": [],
   "source": [
    "from IPython.display import SVG, HTML, IFrame\n",
    "from IPython.display import display\n",
    "from graphviz import Source\n",
    "from collections import deque\n",
    "from typing import List\n",
    "from numpy import inf\n",
    "import operator\n",
    "import codecs\n",
    "import os\n",
    "import re"
   ]
  },
  {
   "cell_type": "markdown",
   "id": "9e724c5b-bc2a-4887-9cde-9c50d79b3555",
   "metadata": {
    "tags": []
   },
   "source": [
    "## Two Sums"
   ]
  },
  {
   "cell_type": "markdown",
   "id": "a1875ec5-4c93-4c84-ad0c-3703dd2567b3",
   "metadata": {},
   "source": [
    "![](https://img.shields.io/badge/Difficulty-Easy-green)&nbsp;[![](https://img.shields.io/badge/Link%20to%20Problem-blue)](https://leetcode.com/problems/two-sum)\n",
    "\n",
    "- Given an array of integers `nums` and an integer `target`, return indices of the two numbers such that they add up to `target`.\n",
    "- You may assume that each input would have **exactly one solution**, and you may not use the same element twice.\n",
    "- You can return the answer in any order.\n",
    "\n",
    " \n",
    "### Examples \n",
    "#### Example 1:\n",
    "```\n",
    "Input: nums = [2,7,11,15], target = 9\n",
    "Output: [0,1]\n",
    "Output: Because nums[0] + nums[1] == 9, we return [0, 1].\n",
    "```\n",
    "#### Example 2:\n",
    "```\n",
    "Input: nums = [3,2,4], target = 6\n",
    "Output: [1,2]\n",
    "```\n",
    "#### Example 3:\n",
    "```\n",
    "Input: nums = [3,3], target = 6\n",
    "Output: [0,1]\n",
    "```\n",
    "\n",
    "### Constraints:\n",
    "- 2 <= `nums.length` <= 103\n",
    "- 109 <= `nums[i]` <= 109\n",
    "- 109 <= `target` <= 109\n",
    "- **Only one valid answer exists.**\n",
    "\n",
    "### Solution"
   ]
  },
  {
   "cell_type": "code",
   "execution_count": 8,
   "id": "8a67b77d-ee4c-41dd-9f83-867fd3facdce",
   "metadata": {
    "execution": {
     "iopub.execute_input": "2021-06-03T16:57:58.205470Z",
     "iopub.status.busy": "2021-06-03T16:57:58.204655Z",
     "iopub.status.idle": "2021-06-03T16:57:58.217602Z",
     "shell.execute_reply": "2021-06-03T16:57:58.216833Z",
     "shell.execute_reply.started": "2021-06-03T16:57:58.205381Z"
    },
    "tags": []
   },
   "outputs": [
    {
     "name": "stdout",
     "output_type": "stream",
     "text": [
      "Output: [0, 1]\n",
      "Output: [1, 2]\n",
      "Output: [0, 1]\n"
     ]
    }
   ],
   "source": [
    "class Solution:\n",
    "    def twoSum(self, nums: List[int], target: int):\n",
    "        for i in range(0, len(nums)):\n",
    "            for j in range(i+1, len(nums)):\n",
    "                if nums[i] + nums[j] == target:\n",
    "                    print(\"Output:\", [i , j])\n",
    "                    return \n",
    "                \n",
    "Solution().twoSum(nums=[2,7,11,15], target=9)\n",
    "Solution().twoSum(nums=[3,2,4], target=6)\n",
    "Solution().twoSum(nums=[3,3], target=6)"
   ]
  },
  {
   "cell_type": "markdown",
   "id": "f0a64268-fde8-47f5-a8ef-fc03c36ace44",
   "metadata": {
    "heading_collapsed": "true",
    "tags": []
   },
   "source": [
    "## Trapping Rain Water"
   ]
  },
  {
   "cell_type": "markdown",
   "id": "9d517a34-f417-49bb-bfa9-51d248e344ea",
   "metadata": {},
   "source": [
    "![](https://img.shields.io/badge/Difficulty-Hard-red) &nbsp;[![](https://img.shields.io/badge/Link%20to%20Problem-blue)](https://leetcode.com/problems/trapping-rain-water/)\n",
    "\n",
    "### Desciption\n",
    "Given `n` non-negative integers representing an elevation map where the width of each bar is `1`, compute how much water it can trap after raining.\n",
    "\n",
    "### Examples:\n",
    "#### Example 1:\n",
    "![](https://assets.leetcode.com/uploads/2018/10/22/rainwatertrap.png)\n",
    "```\n",
    "Input: height = [0,1,0,2,1,0,1,3,2,1,2,1]\n",
    "Output: 6\n",
    "```\n",
    "**Explanation**: The above elevation map (black section) is represented by array `[0, 1, 0, 2, 1, 0, 1, 3, 2, 1, 2, 1]`. In this case, 6 units of rain water (blue section) are being trapped.\n",
    "\n",
    "#### Example 2:\n",
    "```\n",
    "Input: height = [4,2,0,3,2,5]\n",
    "Output: 9\n",
    "```\n",
    "\n",
    "### Constraints:\n",
    "```\n",
    "n == height.length\n",
    "0 <= n <= 3 * 104\n",
    "0 <= height[i] <= 105\n",
    "```"
   ]
  },
  {
   "cell_type": "markdown",
   "id": "476c3023-671a-41df-8b7e-aefe78a6159d",
   "metadata": {},
   "source": [
    "### Solution 1"
   ]
  },
  {
   "cell_type": "code",
   "execution_count": 17,
   "id": "3d713593-7c02-4677-9e72-ef0109b5bf42",
   "metadata": {
    "execution": {
     "iopub.execute_input": "2021-06-03T17:19:24.689289Z",
     "iopub.status.busy": "2021-06-03T17:19:24.688476Z",
     "iopub.status.idle": "2021-06-03T17:19:24.705040Z",
     "shell.execute_reply": "2021-06-03T17:19:24.704308Z",
     "shell.execute_reply.started": "2021-06-03T17:19:24.689200Z"
    },
    "tags": []
   },
   "outputs": [
    {
     "name": "stdout",
     "output_type": "stream",
     "text": [
      "Output: 6\n"
     ]
    }
   ],
   "source": [
    "def trap_1(height):\n",
    "    size = len(height)\n",
    "    if size == 0: return 0\n",
    "    left_max = [None] * size\n",
    "    right_max = [None] * size\n",
    "    right_max[size - 1] = height[size - 1]\n",
    "    for i in range(size-2, -1, -1):\n",
    "        right_max[i] = max(height[i], right_max[i + 1])\n",
    "    ans = 0\n",
    "    left_max[0] = height[0]\n",
    "    for i in range(1, size):\n",
    "        left_max[i] = max(height[i], left_max[i-1])\n",
    "        ans += min(left_max[i], right_max[i]) - height[i]\n",
    "    return(ans)\n",
    "\n",
    "print(\"Output:\", trap_1(height = [0,1,0,2,1,0,1,3,2,1,2,1]))"
   ]
  },
  {
   "cell_type": "markdown",
   "id": "fedf537f-41de-4c70-b8a6-b4021b595b3e",
   "metadata": {},
   "source": [
    "### Solution 2"
   ]
  },
  {
   "cell_type": "code",
   "execution_count": 21,
   "id": "e15e3795-6977-4aca-adb5-679372541e1b",
   "metadata": {
    "execution": {
     "iopub.execute_input": "2021-06-03T17:21:03.452225Z",
     "iopub.status.busy": "2021-06-03T17:21:03.451492Z",
     "iopub.status.idle": "2021-06-03T17:21:03.468515Z",
     "shell.execute_reply": "2021-06-03T17:21:03.467743Z",
     "shell.execute_reply.started": "2021-06-03T17:21:03.452139Z"
    },
    "tags": []
   },
   "outputs": [
    {
     "name": "stdout",
     "output_type": "stream",
     "text": [
      "Output: 6\n"
     ]
    }
   ],
   "source": [
    "# Works Level by level may trigger Time limit exceeded on higher levels\n",
    "def trap_2(h: List[int]) -> int:\n",
    "    if len(h) == 0: return 0\n",
    "    floors, volume  = max(h), 0\n",
    "    a = False\n",
    "    for f in range(floors):\n",
    "        blocks = []\n",
    "        for i in range(len(h)):\n",
    "            if h[i]>0: \n",
    "                blocks.append(i)\n",
    "                if len(blocks) == 2:\n",
    "                    volume += (blocks[1] - blocks[0])-1\n",
    "                    blocks = blocks[1:]\n",
    "                h[i]-=1\n",
    "    return volume\n",
    "\n",
    "print(\"Output:\", trap_2(h=[0,1,0,2,1,0,1,3,2,1,2,1]))"
   ]
  },
  {
   "cell_type": "markdown",
   "id": "4cb0c83a-085b-4d4a-b73e-48af537b8558",
   "metadata": {
    "tags": []
   },
   "source": [
    "## Longest Substring Without Repeating Characters"
   ]
  },
  {
   "cell_type": "markdown",
   "id": "fa8dc063-0d6d-4d2d-84eb-30837bb5b128",
   "metadata": {},
   "source": [
    "![](https://img.shields.io/badge/Difficulty-Medium-yellow)&nbsp;[![](https://img.shields.io/badge/Link%20to%20Problem-blue)](https://leetcode.com/problems/longest-substring-without-repeating-characters/)\n",
    "\n",
    "Given a string s, find the length of the longest substring without repeating characters.\n",
    "\n",
    "### Example 1:\n",
    "```\n",
    "Input: s = \"abcabcbb\"\n",
    "Output: 3\n",
    "Explanation: The answer is \"abc\", with the length of 3.\n",
    "```\n",
    "\n",
    "### Example 2:\n",
    "```\n",
    "Input: s = \"bbbbb\"\n",
    "Output: 1\n",
    "Explanation: The answer is \"b\", with the length of 1.\n",
    "```\n",
    "\n",
    "### Example 3:\n",
    "```\n",
    "Input: s = \"pwwkew\"\n",
    "Output: 3\n",
    "Explanation: The answer is \"wke\", with the length of 3.\n",
    "Notice that the answer must be a substring, \"pwke\" is a subsequence and not a substring.\n",
    "```\n",
    "\n",
    "### Example 4:\n",
    "```\n",
    "Input: s = \"\"\n",
    "Output: 0\n",
    "```\n",
    "\n",
    "### Constraints:\n",
    "- 0 <= s.length <= 5 * 104\n",
    "- `s` consists of English letters, digits, symbols and spaces."
   ]
  },
  {
   "cell_type": "code",
   "execution_count": 28,
   "id": "10ffaac6-63dd-4e10-9ca7-c9e585c593fd",
   "metadata": {
    "execution": {
     "iopub.execute_input": "2021-06-03T19:29:20.271542Z",
     "iopub.status.busy": "2021-06-03T19:29:20.270804Z",
     "iopub.status.idle": "2021-06-03T19:29:20.282935Z",
     "shell.execute_reply": "2021-06-03T19:29:20.281922Z",
     "shell.execute_reply.started": "2021-06-03T19:29:20.271456Z"
    },
    "tags": []
   },
   "outputs": [
    {
     "name": "stdout",
     "output_type": "stream",
     "text": [
      "Output: 3\n"
     ]
    }
   ],
   "source": [
    "class Solution:\n",
    "    def lengthOfLongestSubstring(self, x: str) -> int:\n",
    "        longest=0\n",
    "        for i in range(len(x)):\n",
    "          string = \"\"\n",
    "          for j in range(i,len(x)):\n",
    "            if(x[j] in string): break\n",
    "            else: string+=x[j]\n",
    "          if(len(string)>longest):\n",
    "            longest = len(string)\n",
    "        print(\"Output:\", longest)\n",
    "\n",
    "Solution().lengthOfLongestSubstring(x=\"abcabcbb\")"
   ]
  },
  {
   "cell_type": "code",
   "execution_count": null,
   "id": "56af02da-f5aa-4c78-891e-f3064e90140f",
   "metadata": {},
   "outputs": [],
   "source": []
  }
 ],
 "metadata": {
  "kernelspec": {
   "display_name": "Python 3",
   "language": "python",
   "name": "python3"
  },
  "language_info": {
   "codemirror_mode": {
    "name": "ipython",
    "version": 3
   },
   "file_extension": ".py",
   "mimetype": "text/x-python",
   "name": "python",
   "nbconvert_exporter": "python",
   "pygments_lexer": "ipython3",
   "version": "3.9.2"
  }
 },
 "nbformat": 4,
 "nbformat_minor": 5
}
