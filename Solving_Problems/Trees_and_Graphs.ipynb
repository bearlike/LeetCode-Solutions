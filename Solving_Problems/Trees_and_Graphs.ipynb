{
 "cells": [
  {
   "cell_type": "markdown",
   "id": "6707eefa-729d-4870-83e6-d90e7a410e96",
   "metadata": {
    "tags": []
   },
   "source": [
    "# Solving Problems: Trees and Graphs"
   ]
  },
  {
   "cell_type": "markdown",
   "id": "07836c9e-f039-46d9-80ea-60727887a85a",
   "metadata": {
    "execution": {
     "iopub.execute_input": "2021-05-13T14:36:34.693977Z",
     "iopub.status.busy": "2021-05-13T14:36:34.693261Z",
     "iopub.status.idle": "2021-05-13T14:36:34.704684Z",
     "shell.execute_reply": "2021-05-13T14:36:34.703737Z",
     "shell.execute_reply.started": "2021-05-13T14:36:34.693888Z"
    },
    "tags": []
   },
   "source": [
    "## Common Packages and Methods"
   ]
  },
  {
   "cell_type": "code",
   "execution_count": 1,
   "id": "be21ea4c-45e3-4f3f-a8e4-0fa0be0496a8",
   "metadata": {
    "execution": {
     "iopub.execute_input": "2021-06-03T19:15:30.338260Z",
     "iopub.status.busy": "2021-06-03T19:15:30.337922Z",
     "iopub.status.idle": "2021-06-03T19:15:30.474830Z",
     "shell.execute_reply": "2021-06-03T19:15:30.474101Z",
     "shell.execute_reply.started": "2021-06-03T19:15:30.338166Z"
    },
    "tags": []
   },
   "outputs": [],
   "source": [
    "from IPython.display import SVG, HTML, IFrame\n",
    "from IPython.display import display\n",
    "from graphviz import Source\n",
    "from collections import deque\n",
    "from typing import List\n",
    "from numpy import inf\n",
    "import operator\n",
    "import codecs\n",
    "import os\n",
    "import re"
   ]
  },
  {
   "cell_type": "code",
   "execution_count": 2,
   "id": "d9bcaf2a-b924-4b65-a224-97ed5fb72bbc",
   "metadata": {
    "execution": {
     "iopub.execute_input": "2021-06-03T19:15:30.476377Z",
     "iopub.status.busy": "2021-06-03T19:15:30.476175Z",
     "iopub.status.idle": "2021-06-03T19:15:30.482150Z",
     "shell.execute_reply": "2021-06-03T19:15:30.481517Z",
     "shell.execute_reply.started": "2021-06-03T19:15:30.476351Z"
    },
    "tags": []
   },
   "outputs": [],
   "source": [
    "def visualize(text, height=220):\n",
    "    text = \"digraph BST_TEMP {\" + text + \"}\"\n",
    "    graph = Source(text)\n",
    "    svgt = codecs.decode(graph.pipe(format='svg'),'UTF-8')\n",
    "    regex_1 = r\"height=\\\"[0-9]+pt\\\"\"\n",
    "    regex_2 = r\"width=\\\"[0-9]+pt\\\"\"\n",
    "    subst = 'height=\"'+str(height)+'pt\"'\n",
    "    svgt = re.sub(regex_1, subst, svgt, 0, re.MULTILINE)\n",
    "    svgt = re.sub(regex_2, subst, svgt, 0, re.MULTILINE)\n",
    "    display(HTML(\"<br>\"+svgt))\n",
    "    \n",
    "def arrow_string(a, b):\n",
    "    return (str(a) + \"->\" + str(b) + \";\")"
   ]
  },
  {
   "cell_type": "markdown",
   "id": "e77d6d29-18c7-4b91-a523-30c4663a28d1",
   "metadata": {
    "tags": []
   },
   "source": [
    "## Sum of Root To Leaf Binary Numbers"
   ]
  },
  {
   "cell_type": "markdown",
   "id": "41816c04-6b8f-47bf-8101-2c9cd84a2803",
   "metadata": {
    "execution": {
     "iopub.execute_input": "2021-05-13T14:34:29.020550Z",
     "iopub.status.busy": "2021-05-13T14:34:29.019711Z",
     "iopub.status.idle": "2021-05-13T14:34:29.039420Z",
     "shell.execute_reply": "2021-05-13T14:34:29.038440Z",
     "shell.execute_reply.started": "2021-05-13T14:34:29.020336Z"
    }
   },
   "source": [
    "![](https://img.shields.io/badge/Difficulty-Easy-green)&nbsp;[![](https://img.shields.io/badge/Link%20to%20Problem-blue)](https://leetcode.com/problems/sum-of-root-to-leaf-binary-numbers/) \n",
    "\n",
    "You are given the `root` of a binary tree where each node has a value `0` or `1`.  Each root-to-leaf path represents a binary number starting with the most significant bit.  For example, if the path is `0 -> 1 -> 1 -> 0 -> 1`, then this could represent `01101` in binary, which is `13`.\n",
    "\n",
    "For all leaves in the tree, consider the numbers represented by the path from the root to that leaf.\n",
    "\n",
    "Return the sum of these numbers. The answer is guaranteed to fit in a 32-bits integer.\n"
   ]
  },
  {
   "cell_type": "markdown",
   "id": "6a263097-5244-4be1-9a51-65a8ccafb52c",
   "metadata": {
    "execution": {
     "iopub.execute_input": "2021-05-13T15:10:46.768479Z",
     "iopub.status.busy": "2021-05-13T15:10:46.231572Z",
     "iopub.status.idle": "2021-05-13T15:10:49.161795Z",
     "shell.execute_reply": "2021-05-13T15:10:48.925711Z",
     "shell.execute_reply.started": "2021-05-13T15:10:46.761690Z"
    },
    "tags": []
   },
   "source": [
    "### Example"
   ]
  },
  {
   "cell_type": "code",
   "execution_count": 3,
   "id": "93b1f383-9baf-495e-8dfb-2f4da1b893b7",
   "metadata": {
    "execution": {
     "iopub.execute_input": "2021-06-03T19:15:30.483558Z",
     "iopub.status.busy": "2021-06-03T19:15:30.483349Z",
     "iopub.status.idle": "2021-06-03T19:15:30.583474Z",
     "shell.execute_reply": "2021-06-03T19:15:30.582859Z",
     "shell.execute_reply.started": "2021-06-03T19:15:30.483529Z"
    },
    "tags": []
   },
   "outputs": [
    {
     "data": {
      "text/html": [
       "\n",
       "    <code>\n",
       "        Input: root = [1,0,1,0,1,0,1]\n",
       "        Output: 22\n",
       "        Explanation: (100) + (101) + (110) + (111) = 4 + 5 + 6 + 7 = 22\n",
       "    </code>\n",
       "    <img style=\"width: 40%;\" src=\"https://assets.leetcode.com/uploads/2019/04/04/sum-of-root-to-leaf-binary-numbers.png\" />\n"
      ],
      "text/plain": [
       "<IPython.core.display.HTML object>"
      ]
     },
     "metadata": {},
     "output_type": "display_data"
    }
   ],
   "source": [
    "code_temp = \"\"\"\n",
    "    <code>\n",
    "        Input: root = [1,0,1,0,1,0,1]\n",
    "        Output: 22\n",
    "        Explanation: (100) + (101) + (110) + (111) = 4 + 5 + 6 + 7 = 22\n",
    "    </code>\n",
    "    <img style=\"width: 40%;\" src=\"https://assets.leetcode.com/uploads/2019/04/04/sum-of-root-to-leaf-binary-numbers.png\" />\n",
    "\"\"\"\n",
    "display(HTML(code_temp))"
   ]
  },
  {
   "cell_type": "markdown",
   "id": "ab10b13c-a4bf-49bc-9b33-096d46ae280c",
   "metadata": {
    "tags": []
   },
   "source": [
    "### Solution"
   ]
  },
  {
   "cell_type": "code",
   "execution_count": 4,
   "id": "1a75ec1e-186b-4aec-9274-24911f94a5cc",
   "metadata": {
    "execution": {
     "iopub.execute_input": "2021-06-03T19:15:30.584802Z",
     "iopub.status.busy": "2021-06-03T19:15:30.584544Z",
     "iopub.status.idle": "2021-06-03T19:15:30.701492Z",
     "shell.execute_reply": "2021-06-03T19:15:30.699959Z",
     "shell.execute_reply.started": "2021-06-03T19:15:30.584776Z"
    },
    "tags": []
   },
   "outputs": [],
   "source": [
    "# Node Class\n",
    "class Node:\n",
    "    def __init__(self, data):\n",
    "        self.data = data\n",
    "        self.left = None\n",
    "        self.right = None"
   ]
  },
  {
   "cell_type": "code",
   "execution_count": 5,
   "id": "32ab511d-3462-48e2-826a-9dd058986fb5",
   "metadata": {
    "execution": {
     "iopub.execute_input": "2021-06-03T19:15:30.704770Z",
     "iopub.status.busy": "2021-06-03T19:15:30.704043Z",
     "iopub.status.idle": "2021-06-03T19:15:30.791791Z",
     "shell.execute_reply": "2021-06-03T19:15:30.790388Z",
     "shell.execute_reply.started": "2021-06-03T19:15:30.704645Z"
    },
    "tags": []
   },
   "outputs": [],
   "source": [
    "# Example 1\n",
    "root = Node(1)\n",
    "root.left = Node(0)\n",
    "root.left.left = Node(0)\n",
    "root.left.right = Node(1)\n",
    "root.right = Node(1)\n",
    "root.right.left = Node(0)\n",
    "root.right.right = Node(1)"
   ]
  },
  {
   "cell_type": "code",
   "execution_count": 6,
   "id": "83faf75b-b409-4a5d-87ea-7256a36b9fc3",
   "metadata": {
    "execution": {
     "iopub.execute_input": "2021-06-03T19:15:30.794353Z",
     "iopub.status.busy": "2021-06-03T19:15:30.793913Z",
     "iopub.status.idle": "2021-06-03T19:15:30.895753Z",
     "shell.execute_reply": "2021-06-03T19:15:30.893550Z",
     "shell.execute_reply.started": "2021-06-03T19:15:30.794295Z"
    },
    "tags": []
   },
   "outputs": [
    {
     "name": "stdout",
     "output_type": "stream",
     "text": [
      "Output: 22\n"
     ]
    }
   ],
   "source": [
    "class Solution_1:\n",
    "    def return_nodes(self, root, bits_text):\n",
    "        global sum_t\n",
    "        bits_text += str(root.data)\n",
    "        if root.left:\n",
    "            self.return_nodes(root.left, bits_text)\n",
    "        if root.right:\n",
    "            self.return_nodes(root.right, bits_text)\n",
    "        if root.left is None and root.right is None:\n",
    "            sum_t += int(bits_text, 2)\n",
    "    \n",
    "    def sumRootToLeaf(self, root) -> int:\n",
    "        global sum_t\n",
    "        sum_t = 0\n",
    "        self.return_nodes(root, \"\")\n",
    "        return sum_t\n",
    "    \n",
    "sum_t = Solution_1().sumRootToLeaf(root)\n",
    "print(\"Output:\", sum_t)"
   ]
  },
  {
   "cell_type": "markdown",
   "id": "bacb4793-bcad-44c5-885d-808ed966b7fc",
   "metadata": {},
   "source": [
    "## Lowest Common Ancestor of a Binary Tree"
   ]
  },
  {
   "cell_type": "markdown",
   "id": "8acd5fde-fa02-4de8-a14d-a59162bb676f",
   "metadata": {
    "execution": {
     "iopub.execute_input": "2021-06-04T14:41:17.367480Z",
     "iopub.status.busy": "2021-06-04T14:41:17.366608Z",
     "iopub.status.idle": "2021-06-04T14:41:18.012203Z",
     "shell.execute_reply": "2021-06-04T14:41:18.010333Z",
     "shell.execute_reply.started": "2021-06-04T14:41:17.367262Z"
    }
   },
   "source": [
    "![](https://img.shields.io/badge/Difficulty-Medium-yellow)&nbsp;[![](https://img.shields.io/badge/Link%20to%20Problem-blue)](https://leetcode.com/problems/lowest-common-ancestor-of-a-binary-tree/) \n",
    "\n",
    "Given a binary tree, find the lowest common ancestor (LCA) of two given nodes in the tree.\n",
    "According to the definition of LCA on Wikipedia: “The lowest common ancestor is defined between two nodes p and q as the lowest node in T that has both p and q as descendants (where we allow a node to be a descendant of itself).”\n",
    "\n",
    "### Example 1:\n",
    "![](https://assets.leetcode.com/uploads/2018/12/14/binarytree.png)\n",
    "```\n",
    "Input: root = [3,5,1,6,2,0,8,null,null,7,4], p = 5, q = 1\n",
    "Output: 3\n",
    "Explanation: The LCA of nodes 5 and 1 is 3.\n",
    "```\n",
    "\n",
    "### Example 2:\n",
    "```\n",
    "Input: root = [3,5,1,6,2,0,8,null,null,7,4], p = 5, q = 4\n",
    "Output: 5\n",
    "Explanation: The LCA of nodes 5 and 4 is 5, since a node can be a descendant of itself according to the LCA definition.\n",
    "```\n",
    "\n",
    "### Example 3:\n",
    "```\n",
    "Input: root = [1,2], p = 1, q = 2\n",
    "Output: 1\n",
    "```\n",
    "\n",
    "### Constraints:\n",
    "\n",
    "- The number of nodes in the tree is in the range `[2, 105]`.\n",
    "- `-109 <= Node.val <= 109`\n",
    "- All `Node.val` are unique.\n",
    "- `p` != `q`\n",
    "- `p` and `q` will exist in the tree.\n"
   ]
  },
  {
   "cell_type": "code",
   "execution_count": 2,
   "id": "cb55d813-688f-4288-bcda-4c5bea18f5a5",
   "metadata": {
    "execution": {
     "iopub.execute_input": "2021-06-04T14:44:30.047606Z",
     "iopub.status.busy": "2021-06-04T14:44:30.046873Z",
     "iopub.status.idle": "2021-06-04T14:44:30.057830Z",
     "shell.execute_reply": "2021-06-04T14:44:30.057054Z",
     "shell.execute_reply.started": "2021-06-04T14:44:30.047512Z"
    }
   },
   "outputs": [],
   "source": [
    "# Definition for a binary tree node.\n",
    "class TreeNode:\n",
    "    def __init__(self, x):\n",
    "        self.val = x\n",
    "        self.left = None\n",
    "        self.right = None"
   ]
  },
  {
   "cell_type": "code",
   "execution_count": 3,
   "id": "c0f17382-3e3d-423a-8cb5-633898bb1da5",
   "metadata": {
    "execution": {
     "iopub.execute_input": "2021-06-04T14:45:07.781267Z",
     "iopub.status.busy": "2021-06-04T14:45:07.780472Z",
     "iopub.status.idle": "2021-06-04T14:45:07.792985Z",
     "shell.execute_reply": "2021-06-04T14:45:07.792143Z",
     "shell.execute_reply.started": "2021-06-04T14:45:07.781178Z"
    }
   },
   "outputs": [],
   "source": [
    "class Solution_1:\n",
    "    # Using Pre-Order Traversal and storing paths (Cons: Memory Intensive)\n",
    "    def lowestCommonAncestor(self, root: 'TreeNode', p: 'TreeNode', q: 'TreeNode') -> 'TreeNode':\n",
    "        global path_to_p, path_to_q\n",
    "        path_to_p, path_to_q = None, None\n",
    "        \n",
    "        def common(a, b):\n",
    "            ans = None\n",
    "            for i in a:\n",
    "                if i in b: ans = i\n",
    "            return ans\n",
    "        \n",
    "        def preorder(root, prev=[]):\n",
    "            global path_to_p, path_to_q\n",
    "            prev.append(root)\n",
    "            if root == p: \n",
    "                path_to_p = prev.copy()\n",
    "                if path_to_p and path_to_q: return\n",
    "            elif root == q:\n",
    "                path_to_q = prev.copy()\n",
    "                if path_to_p and path_to_q: return\n",
    "            if root.left: inorder(root.left, prev.copy())\n",
    "            if root.right: inorder(root.right, prev.copy())\n",
    "                \n",
    "        preorder(root)\n",
    "        return common(path_to_p, path_to_q)"
   ]
  },
  {
   "cell_type": "code",
   "execution_count": 4,
   "id": "e08fde6c-a6ec-4286-bb5a-6beb5c03a0b4",
   "metadata": {
    "execution": {
     "iopub.execute_input": "2021-06-04T15:04:33.230367Z",
     "iopub.status.busy": "2021-06-04T15:04:33.229650Z",
     "iopub.status.idle": "2021-06-04T15:04:33.244094Z",
     "shell.execute_reply": "2021-06-04T15:04:33.243294Z",
     "shell.execute_reply.started": "2021-06-04T15:04:33.230278Z"
    }
   },
   "outputs": [],
   "source": [
    "class Solution_2:\n",
    "    def __init__(self):\n",
    "        self.ans = None\n",
    "        \n",
    "    def lowestCommonAncestor(self, root: 'TreeNode', p: 'TreeNode', q: 'TreeNode') -> 'TreeNode':\n",
    "        # Recursive Backtracking Approach (Better than above)\n",
    "        def recursive_tree(root):\n",
    "            if not root: return False\n",
    "            left = recursive_tree(root.left)\n",
    "            right = recursive_tree(root.right)\n",
    "            mid = (root == p) or (root == q)\n",
    "            if (left + right + mid) >=2: self.ans = root\n",
    "            return left or right or mid\n",
    "        \n",
    "        recursive_tree(root)\n",
    "        return self.ans"
   ]
  },
  {
   "cell_type": "code",
   "execution_count": null,
   "id": "c5e44d3e-d18d-4400-b77a-ad185079888e",
   "metadata": {},
   "outputs": [],
   "source": []
  }
 ],
 "metadata": {
  "kernelspec": {
   "display_name": "Python 3",
   "language": "python",
   "name": "python3"
  },
  "language_info": {
   "codemirror_mode": {
    "name": "ipython",
    "version": 3
   },
   "file_extension": ".py",
   "mimetype": "text/x-python",
   "name": "python",
   "nbconvert_exporter": "python",
   "pygments_lexer": "ipython3",
   "version": "3.9.2"
  }
 },
 "nbformat": 4,
 "nbformat_minor": 5
}
