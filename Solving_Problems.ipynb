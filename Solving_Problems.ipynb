{
 "cells": [
  {
   "cell_type": "markdown",
   "id": "6707eefa-729d-4870-83e6-d90e7a410e96",
   "metadata": {},
   "source": []
  },
  {
   "cell_type": "markdown",
   "id": "07836c9e-f039-46d9-80ea-60727887a85a",
   "metadata": {
    "execution": {
     "iopub.execute_input": "2021-05-13T14:36:34.693977Z",
     "iopub.status.busy": "2021-05-13T14:36:34.693261Z",
     "iopub.status.idle": "2021-05-13T14:36:34.704684Z",
     "shell.execute_reply": "2021-05-13T14:36:34.703737Z",
     "shell.execute_reply.started": "2021-05-13T14:36:34.693888Z"
    },
    "tags": []
   },
   "source": [
    "## Common Packages and Methods"
   ]
  },
  {
   "cell_type": "code",
   "execution_count": 2,
   "id": "be21ea4c-45e3-4f3f-a8e4-0fa0be0496a8",
   "metadata": {
    "execution": {
     "iopub.execute_input": "2021-06-03T16:55:46.527548Z",
     "iopub.status.busy": "2021-06-03T16:55:46.526819Z",
     "iopub.status.idle": "2021-06-03T16:55:46.662482Z",
     "shell.execute_reply": "2021-06-03T16:55:46.661751Z",
     "shell.execute_reply.started": "2021-06-03T16:55:46.527460Z"
    },
    "tags": []
   },
   "outputs": [],
   "source": [
    "from IPython.display import SVG, HTML, IFrame\n",
    "from IPython.display import display\n",
    "from graphviz import Source\n",
    "from collections import deque\n",
    "from typing import List\n",
    "from numpy import inf\n",
    "import operator\n",
    "import codecs\n",
    "import os\n",
    "import re"
   ]
  },
  {
   "cell_type": "code",
   "execution_count": 15,
   "id": "d9bcaf2a-b924-4b65-a224-97ed5fb72bbc",
   "metadata": {
    "execution": {
     "iopub.execute_input": "2021-05-13T15:13:01.240456Z",
     "iopub.status.busy": "2021-05-13T15:13:01.240115Z",
     "iopub.status.idle": "2021-05-13T15:13:01.264715Z",
     "shell.execute_reply": "2021-05-13T15:13:01.263396Z",
     "shell.execute_reply.started": "2021-05-13T15:13:01.240418Z"
    }
   },
   "outputs": [],
   "source": [
    "def visualize(text, height=220):\n",
    "    text = \"digraph BST_TEMP {\" + text + \"}\"\n",
    "    graph = Source(text)\n",
    "    svgt = codecs.decode(graph.pipe(format='svg'),'UTF-8')\n",
    "    regex_1 = r\"height=\\\"[0-9]+pt\\\"\"\n",
    "    regex_2 = r\"width=\\\"[0-9]+pt\\\"\"\n",
    "    subst = 'height=\"'+str(height)+'pt\"'\n",
    "    svgt = re.sub(regex_1, subst, svgt, 0, re.MULTILINE)\n",
    "    svgt = re.sub(regex_2, subst, svgt, 0, re.MULTILINE)\n",
    "    display(HTML(\"<br>\"+svgt))\n",
    "    \n",
    "def arrow_string(a, b):\n",
    "    return (str(a) + \"->\" + str(b) + \";\")"
   ]
  },
  {
   "cell_type": "markdown",
   "id": "e77d6d29-18c7-4b91-a523-30c4663a28d1",
   "metadata": {
    "tags": []
   },
   "source": [
    "# Sum of Root To Leaf Binary Numbers"
   ]
  },
  {
   "cell_type": "markdown",
   "id": "41816c04-6b8f-47bf-8101-2c9cd84a2803",
   "metadata": {
    "execution": {
     "iopub.execute_input": "2021-05-13T14:34:29.020550Z",
     "iopub.status.busy": "2021-05-13T14:34:29.019711Z",
     "iopub.status.idle": "2021-05-13T14:34:29.039420Z",
     "shell.execute_reply": "2021-05-13T14:34:29.038440Z",
     "shell.execute_reply.started": "2021-05-13T14:34:29.020336Z"
    }
   },
   "source": [
    "![](https://img.shields.io/badge/Difficulty-Easy-green) | [Link to Problem](https://leetcode.com/problems/sum-of-root-to-leaf-binary-numbers/) \n",
    "\n",
    "You are given the `root` of a binary tree where each node has a value `0` or `1`.  Each root-to-leaf path represents a binary number starting with the most significant bit.  For example, if the path is `0 -> 1 -> 1 -> 0 -> 1`, then this could represent `01101` in binary, which is `13`.\n",
    "\n",
    "For all leaves in the tree, consider the numbers represented by the path from the root to that leaf.\n",
    "\n",
    "Return the sum of these numbers. The answer is guaranteed to fit in a 32-bits integer.\n"
   ]
  },
  {
   "cell_type": "markdown",
   "id": "6a263097-5244-4be1-9a51-65a8ccafb52c",
   "metadata": {
    "execution": {
     "iopub.execute_input": "2021-05-13T15:10:46.768479Z",
     "iopub.status.busy": "2021-05-13T15:10:46.231572Z",
     "iopub.status.idle": "2021-05-13T15:10:49.161795Z",
     "shell.execute_reply": "2021-05-13T15:10:48.925711Z",
     "shell.execute_reply.started": "2021-05-13T15:10:46.761690Z"
    },
    "tags": []
   },
   "source": [
    "## Example"
   ]
  },
  {
   "cell_type": "code",
   "execution_count": 35,
   "id": "93b1f383-9baf-495e-8dfb-2f4da1b893b7",
   "metadata": {
    "execution": {
     "iopub.execute_input": "2021-05-13T18:09:11.972700Z",
     "iopub.status.busy": "2021-05-13T18:09:11.972114Z",
     "iopub.status.idle": "2021-05-13T18:09:12.006777Z",
     "shell.execute_reply": "2021-05-13T18:09:12.005554Z",
     "shell.execute_reply.started": "2021-05-13T18:09:11.972630Z"
    },
    "tags": []
   },
   "outputs": [
    {
     "data": {
      "text/html": [
       "\n",
       "    <code>\n",
       "        Input: root = [1,0,1,0,1,0,1]\n",
       "        Output: 22\n",
       "        Explanation: (100) + (101) + (110) + (111) = 4 + 5 + 6 + 7 = 22\n",
       "    </code>\n",
       "    <img style=\"width: 40%;\" src=\"https://assets.leetcode.com/uploads/2019/04/04/sum-of-root-to-leaf-binary-numbers.png\" />\n"
      ],
      "text/plain": [
       "<IPython.core.display.HTML object>"
      ]
     },
     "metadata": {},
     "output_type": "display_data"
    }
   ],
   "source": [
    "code_temp = \"\"\"\n",
    "    <code>\n",
    "        Input: root = [1,0,1,0,1,0,1]\n",
    "        Output: 22\n",
    "        Explanation: (100) + (101) + (110) + (111) = 4 + 5 + 6 + 7 = 22\n",
    "    </code>\n",
    "    <img style=\"width: 40%;\" src=\"https://assets.leetcode.com/uploads/2019/04/04/sum-of-root-to-leaf-binary-numbers.png\" />\n",
    "\"\"\"\n",
    "display(HTML(code_temp))"
   ]
  },
  {
   "cell_type": "markdown",
   "id": "ab10b13c-a4bf-49bc-9b33-096d46ae280c",
   "metadata": {
    "tags": []
   },
   "source": [
    "## Solution"
   ]
  },
  {
   "cell_type": "code",
   "execution_count": 3,
   "id": "1a75ec1e-186b-4aec-9274-24911f94a5cc",
   "metadata": {
    "execution": {
     "iopub.execute_input": "2021-05-13T14:38:32.594010Z",
     "iopub.status.busy": "2021-05-13T14:38:32.593301Z",
     "iopub.status.idle": "2021-05-13T14:38:32.604519Z",
     "shell.execute_reply": "2021-05-13T14:38:32.602617Z",
     "shell.execute_reply.started": "2021-05-13T14:38:32.593922Z"
    }
   },
   "outputs": [],
   "source": [
    "# Node Class\n",
    "class Node:\n",
    "    def __init__(self, data):\n",
    "        self.data = data\n",
    "        self.left = None\n",
    "        self.right = None"
   ]
  },
  {
   "cell_type": "code",
   "execution_count": 34,
   "id": "32ab511d-3462-48e2-826a-9dd058986fb5",
   "metadata": {
    "execution": {
     "iopub.execute_input": "2021-05-13T15:20:42.501968Z",
     "iopub.status.busy": "2021-05-13T15:20:42.501243Z",
     "iopub.status.idle": "2021-05-13T15:20:42.512321Z",
     "shell.execute_reply": "2021-05-13T15:20:42.511558Z",
     "shell.execute_reply.started": "2021-05-13T15:20:42.501881Z"
    },
    "tags": []
   },
   "outputs": [],
   "source": [
    "# Example 1\n",
    "root = Node(1)\n",
    "root.left = Node(0)\n",
    "root.left.left = Node(0)\n",
    "root.left.right = Node(1)\n",
    "root.right = Node(1)\n",
    "root.right.left = Node(0)\n",
    "root.right.right = Node(1)"
   ]
  },
  {
   "cell_type": "code",
   "execution_count": 33,
   "id": "83faf75b-b409-4a5d-87ea-7256a36b9fc3",
   "metadata": {
    "execution": {
     "iopub.execute_input": "2021-05-13T15:20:28.994502Z",
     "iopub.status.busy": "2021-05-13T15:20:28.993721Z",
     "iopub.status.idle": "2021-05-13T15:20:29.116935Z",
     "shell.execute_reply": "2021-05-13T15:20:29.114589Z",
     "shell.execute_reply.started": "2021-05-13T15:20:28.994412Z"
    },
    "tags": []
   },
   "outputs": [
    {
     "name": "stdout",
     "output_type": "stream",
     "text": [
      "Output: 22\n"
     ]
    }
   ],
   "source": [
    "class Solution_1:\n",
    "    def return_nodes(self, root, bits_text):\n",
    "        global sum_t\n",
    "        bits_text += str(root.data)\n",
    "        if root.left:\n",
    "            self.return_nodes(root.left, bits_text)\n",
    "        if root.right:\n",
    "            self.return_nodes(root.right, bits_text)\n",
    "        if root.left is None and root.right is None:\n",
    "            sum_t += int(bits_text, 2)\n",
    "    \n",
    "    def sumRootToLeaf(self, root) -> int:\n",
    "        global sum_t\n",
    "        sum_t = 0\n",
    "        self.return_nodes(root, \"\")\n",
    "        return sum_t\n",
    "    \n",
    "sum_t = Solution_1().sumRootToLeaf(root)\n",
    "print(\"Output:\", sum_t)"
   ]
  },
  {
   "cell_type": "markdown",
   "id": "9e724c5b-bc2a-4887-9cde-9c50d79b3555",
   "metadata": {},
   "source": [
    "# Two Sums"
   ]
  },
  {
   "cell_type": "markdown",
   "id": "a1875ec5-4c93-4c84-ad0c-3703dd2567b3",
   "metadata": {},
   "source": [
    "![](https://img.shields.io/badge/Difficulty-Easy-green) | [Link to Problem](https://leetcode.com/problems/two-sum)\n",
    "\n",
    "- Given an array of integers `nums` and an integer `target`, return indices of the two numbers such that they add up to `target`.\n",
    "- You may assume that each input would have **exactly one solution**, and you may not use the same element twice.\n",
    "- You can return the answer in any order.\n",
    "\n",
    " \n",
    "## Examples \n",
    "### Example 1:\n",
    "```\n",
    "Input: nums = [2,7,11,15], target = 9\n",
    "Output: [0,1]\n",
    "Output: Because nums[0] + nums[1] == 9, we return [0, 1].\n",
    "```\n",
    "### Example 2:\n",
    "```\n",
    "Input: nums = [3,2,4], target = 6\n",
    "Output: [1,2]\n",
    "```\n",
    "### Example 3:\n",
    "```\n",
    "Input: nums = [3,3], target = 6\n",
    "Output: [0,1]\n",
    "```\n",
    "\n",
    "## Constraints:\n",
    "- 2 <= `nums.length` <= 103\n",
    "- 109 <= `nums[i]` <= 109\n",
    "- 109 <= `target` <= 109\n",
    "- **Only one valid answer exists.**\n",
    "\n",
    "## Solution"
   ]
  },
  {
   "cell_type": "code",
   "execution_count": 8,
   "id": "8a67b77d-ee4c-41dd-9f83-867fd3facdce",
   "metadata": {
    "execution": {
     "iopub.execute_input": "2021-06-03T16:57:58.205470Z",
     "iopub.status.busy": "2021-06-03T16:57:58.204655Z",
     "iopub.status.idle": "2021-06-03T16:57:58.217602Z",
     "shell.execute_reply": "2021-06-03T16:57:58.216833Z",
     "shell.execute_reply.started": "2021-06-03T16:57:58.205381Z"
    },
    "tags": []
   },
   "outputs": [
    {
     "name": "stdout",
     "output_type": "stream",
     "text": [
      "Output: [0, 1]\n",
      "Output: [1, 2]\n",
      "Output: [0, 1]\n"
     ]
    }
   ],
   "source": [
    "class Solution:\n",
    "    def twoSum(self, nums: List[int], target: int):\n",
    "        for i in range(0, len(nums)):\n",
    "            for j in range(i+1, len(nums)):\n",
    "                if nums[i] + nums[j] == target:\n",
    "                    print(\"Output:\", [i , j])\n",
    "                    return \n",
    "                \n",
    "Solution().twoSum(nums=[2,7,11,15], target=9)\n",
    "Solution().twoSum(nums=[3,2,4], target=6)\n",
    "Solution().twoSum(nums=[3,3], target=6)"
   ]
  },
  {
   "cell_type": "code",
   "execution_count": null,
   "id": "d6bb8491-cf23-4fd8-87b8-80191696bace",
   "metadata": {},
   "outputs": [],
   "source": []
  }
 ],
 "metadata": {
  "kernelspec": {
   "display_name": "Python 3",
   "language": "python",
   "name": "python3"
  },
  "language_info": {
   "codemirror_mode": {
    "name": "ipython",
    "version": 3
   },
   "file_extension": ".py",
   "mimetype": "text/x-python",
   "name": "python",
   "nbconvert_exporter": "python",
   "pygments_lexer": "ipython3",
   "version": "3.9.2"
  }
 },
 "nbformat": 4,
 "nbformat_minor": 5
}
