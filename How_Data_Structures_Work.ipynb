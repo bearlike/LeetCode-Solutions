{
 "cells": [
  {
   "cell_type": "markdown",
   "id": "ffda70a6-718f-472d-be01-db62e1866ba5",
   "metadata": {
    "tags": []
   },
   "source": [
    "# Algorithms Practice"
   ]
  },
  {
   "cell_type": "markdown",
   "id": "06213b9a-17b4-4e0d-b1e3-23e40afb86ee",
   "metadata": {
    "heading_collapsed": "true",
    "tags": []
   },
   "source": [
    "## To-Do List"
   ]
  },
  {
   "cell_type": "markdown",
   "id": "ddefec85-f7b3-4057-91cd-019cff3c7874",
   "metadata": {},
   "source": [
    "- [X] Binary Search\n",
    "- [X] Binary Search Tree\n",
    "- [X] **Undirected Graphs**\n",
    "    - [X] Breadth First Search (BFS)\n",
    "    - [X] Depth First Search (DFS)\n",
    "- [ ] **Directed Graphs**\n",
    "    - [X] Dijkstra's algorithm (Shortest Path from source to all vertices)\n",
    "    - [ ] Floyd-Warshall algorithm (Shortest Path for all node pairs)\n",
    " - [ ] Heaps\n",
    " \n",
    "### References\n",
    "   - [GitHub: Coding Interview University](https://github.com/jwasham/coding-interview-university)"
   ]
  },
  {
   "cell_type": "markdown",
   "id": "2dba6daf-f34a-45b1-ad54-1f26f722333f",
   "metadata": {
    "tags": []
   },
   "source": [
    "## Common Packages and Methods"
   ]
  },
  {
   "cell_type": "code",
   "execution_count": 1,
   "id": "865d82b1-b500-4eb3-a130-bfd4c89796b5",
   "metadata": {
    "execution": {
     "iopub.execute_input": "2021-06-03T15:15:59.279462Z",
     "iopub.status.busy": "2021-06-03T15:15:59.279120Z",
     "iopub.status.idle": "2021-06-03T15:16:00.142168Z",
     "shell.execute_reply": "2021-06-03T15:16:00.141238Z",
     "shell.execute_reply.started": "2021-06-03T15:15:59.279374Z"
    },
    "tags": []
   },
   "outputs": [],
   "source": [
    "from IPython.display import SVG, HTML\n",
    "from IPython.display import display\n",
    "from graphviz import Source\n",
    "from collections import deque\n",
    "from typing import List\n",
    "from numpy import inf\n",
    "import operator\n",
    "import codecs\n",
    "import os\n",
    "import re"
   ]
  },
  {
   "cell_type": "code",
   "execution_count": 2,
   "id": "d1a28443-c6a8-4558-ba3f-37f8406f7303",
   "metadata": {
    "execution": {
     "iopub.execute_input": "2021-06-03T15:16:00.144800Z",
     "iopub.status.busy": "2021-06-03T15:16:00.144320Z",
     "iopub.status.idle": "2021-06-03T15:16:00.151766Z",
     "shell.execute_reply": "2021-06-03T15:16:00.150824Z",
     "shell.execute_reply.started": "2021-06-03T15:16:00.144716Z"
    },
    "tags": []
   },
   "outputs": [],
   "source": [
    "def visualize(text, height=220):\n",
    "    text = \"digraph BST_TEMP {\" + text + \"}\"\n",
    "    graph = Source(text)\n",
    "    svgt = codecs.decode(graph.pipe(format='svg'),'UTF-8')\n",
    "    regex_1 = r\"height=\\\"[0-9]+pt\\\"\"\n",
    "    regex_2 = r\"width=\\\"[0-9]+pt\\\"\"\n",
    "    subst = 'height=\"'+str(height)+'pt\"'\n",
    "    svgt = re.sub(regex_1, subst, svgt, 0, re.MULTILINE)\n",
    "    svgt = re.sub(regex_2, subst, svgt, 0, re.MULTILINE)\n",
    "    display(HTML(\"<br>\"+svgt))\n",
    "    \n",
    "def arrow_string(a, b):\n",
    "    return (str(a) + \"->\" + str(b) + \";\")"
   ]
  },
  {
   "cell_type": "markdown",
   "id": "c9821d51-164a-4e42-a746-b3dd39497e02",
   "metadata": {
    "heading_collapsed": "true",
    "tags": [
     "binary",
     "search"
    ]
   },
   "source": [
    "## Binary Search (Recursive)"
   ]
  },
  {
   "cell_type": "code",
   "execution_count": 3,
   "id": "0f5022cb-21a6-4e0f-beb7-a4a3e90964f9",
   "metadata": {
    "execution": {
     "iopub.execute_input": "2021-06-03T15:16:00.153363Z",
     "iopub.status.busy": "2021-06-03T15:16:00.153069Z",
     "iopub.status.idle": "2021-06-03T15:16:00.259051Z",
     "shell.execute_reply": "2021-06-03T15:16:00.258361Z",
     "shell.execute_reply.started": "2021-06-03T15:16:00.153330Z"
    },
    "tags": []
   },
   "outputs": [
    {
     "data": {
      "text/plain": [
       "1"
      ]
     },
     "execution_count": 3,
     "metadata": {},
     "output_type": "execute_result"
    }
   ],
   "source": [
    "def binary_search(items:List[int], key, start=0, end=None) -> int:\n",
    "    \"\"\"\n",
    "    Return index if found and -1 otherwise.\n",
    "    \"\"\"\n",
    "    if end is None:\n",
    "        end = len(items)-1\n",
    "    if start > end:\n",
    "        return -1\n",
    "    \n",
    "    mid = (start + end)//2\n",
    "    \n",
    "    if items[mid] == key:\n",
    "        return mid\n",
    "    elif items[mid] > key:\n",
    "        return binary_search(items, key=key, start=start, end=mid-1)\n",
    "    elif items[mid] < key:\n",
    "        return binary_search(items, key=key, start=mid+1, end=end)\n",
    "        \n",
    "# Method Call\n",
    "binary_search([1,2,3], key=2)    "
   ]
  },
  {
   "cell_type": "markdown",
   "id": "5e2e1a2e-06d0-43f7-a3b6-391836dab246",
   "metadata": {
    "tags": [
     "binary",
     "search",
     "tree"
    ]
   },
   "source": [
    "## Binary Search Tree"
   ]
  },
  {
   "cell_type": "markdown",
   "id": "30125cc6-f1b7-4ec3-b338-ceb94183c87c",
   "metadata": {},
   "source": [
    "In a BST parent, left nodes contain larger values or a right node contain smaller values\n",
    "\n",
    "### Delete Operation\n",
    "1. **Node to be deleted is the leaf**: \n",
    "    - Simply remove from the tree. \n",
    "2. **Node to be deleted has only one child**: \n",
    "    - Copy the child to the node and delete the child \n",
    "3. **Node to be deleted has two children**: \n",
    "    - Find inorder successor of the node. Copy contents of the inorder successor to the node and delete the inorder successor. Note that inorder predecessor can also be used. \n"
   ]
  },
  {
   "cell_type": "code",
   "execution_count": 4,
   "id": "422845fc-e5f7-404f-8dff-8db363c6f3d6",
   "metadata": {
    "execution": {
     "iopub.execute_input": "2021-06-03T15:16:00.260413Z",
     "iopub.status.busy": "2021-06-03T15:16:00.260165Z",
     "iopub.status.idle": "2021-06-03T15:16:00.378110Z",
     "shell.execute_reply": "2021-06-03T15:16:00.375771Z",
     "shell.execute_reply.started": "2021-06-03T15:16:00.260387Z"
    },
    "tags": []
   },
   "outputs": [],
   "source": [
    "# Node Class\n",
    "class Node:\n",
    "    def __init__(self, data):\n",
    "        self.data = data\n",
    "        self.left = None\n",
    "        self.right = None\n",
    "    \n",
    "    def insert(self, data):\n",
    "        if self.data:\n",
    "            # Left Nodes\n",
    "            if self.data > data:\n",
    "                if self.left is None:\n",
    "                    self.left = Node(data)\n",
    "                else:\n",
    "                    self.left.insert(data)\n",
    "            # Right Nodes\n",
    "            elif self.data < data:\n",
    "                if self.right is None:\n",
    "                    self.right = Node(data)\n",
    "                else:\n",
    "                    self.right.insert(data)\n",
    "        else:\n",
    "            # Root Node\n",
    "            self.data = data\n",
    "    \n",
    "    # BST Traversal - In-order\n",
    "    # Left -> Root -> Right\n",
    "    def print_inorder(self):\n",
    "        if self.left:\n",
    "            self.left.print_inorder()\n",
    "        print(self.data, end=\" \")\n",
    "        if self.right:\n",
    "            self.right.print_inorder()\n",
    "            \n",
    "    # Return the number of children for a parent (range: 0-2)\n",
    "    def get_children_count(self):\n",
    "        count = 0\n",
    "        if self.left: count+=1\n",
    "        if self.right: count+=1\n",
    "        return count"
   ]
  },
  {
   "cell_type": "markdown",
   "id": "c12fa998-5e6b-4ac1-ac03-c60c6cff3fae",
   "metadata": {
    "tags": []
   },
   "source": [
    "### Visualizing BST (Not Required)"
   ]
  },
  {
   "cell_type": "code",
   "execution_count": 5,
   "id": "ec120127-19f1-4249-bc03-f39ccdf3f7a3",
   "metadata": {
    "execution": {
     "iopub.execute_input": "2021-06-03T15:16:00.382863Z",
     "iopub.status.busy": "2021-06-03T15:16:00.381876Z",
     "iopub.status.idle": "2021-06-03T15:16:00.534221Z",
     "shell.execute_reply": "2021-06-03T15:16:00.532145Z",
     "shell.execute_reply.started": "2021-06-03T15:16:00.382736Z"
    },
    "tags": []
   },
   "outputs": [],
   "source": [
    "def display_bst(root, height=220):\n",
    "    global text\n",
    "    text = \"\"\n",
    "    _print_child_parent_pair(root)\n",
    "    visualize(text, height)\n",
    "    \n",
    "def _print_child_parent_pair(root, parent=None):\n",
    "    global text\n",
    "    if root.left:\n",
    "        text += arrow_string(root.data, root.left.data)\n",
    "    if root.right:\n",
    "        text += arrow_string(root.data, root.right.data)\n",
    "    if root.left:\n",
    "        _print_child_parent_pair(root.left, root.data)\n",
    "    if root.right:\n",
    "        _print_child_parent_pair(root.right, root.data)"
   ]
  },
  {
   "cell_type": "markdown",
   "id": "541d7eb6-eebf-482e-ad61-8505f1c3ee0e",
   "metadata": {
    "tags": []
   },
   "source": [
    "### Required Methods"
   ]
  },
  {
   "cell_type": "code",
   "execution_count": 6,
   "id": "5bddde32-21a2-44ab-b3cd-a85b9397260b",
   "metadata": {
    "execution": {
     "iopub.execute_input": "2021-06-03T15:16:00.538396Z",
     "iopub.status.busy": "2021-06-03T15:16:00.537533Z",
     "iopub.status.idle": "2021-06-03T15:16:00.653785Z",
     "shell.execute_reply": "2021-06-03T15:16:00.651759Z",
     "shell.execute_reply.started": "2021-06-03T15:16:00.538282Z"
    },
    "tags": []
   },
   "outputs": [],
   "source": [
    "# Return Minimum\n",
    "def get_min_node(root):\n",
    "    if root.left is None:\n",
    "        return root\n",
    "    return get_min_node(root.left)"
   ]
  },
  {
   "cell_type": "code",
   "execution_count": 7,
   "id": "6ea84209-d37a-453c-82d6-fefc3c45d3f8",
   "metadata": {
    "execution": {
     "iopub.execute_input": "2021-06-03T15:16:00.662690Z",
     "iopub.status.busy": "2021-06-03T15:16:00.662375Z",
     "iopub.status.idle": "2021-06-03T15:16:00.731052Z",
     "shell.execute_reply": "2021-06-03T15:16:00.729709Z",
     "shell.execute_reply.started": "2021-06-03T15:16:00.662654Z"
    },
    "tags": []
   },
   "outputs": [],
   "source": [
    "# Delete Operation\n",
    "def delete_bst(root, data):\n",
    "    if root is None:\n",
    "        return root\n",
    "    if(data > root.data):\n",
    "        root.right = delete_bst(root.right, data)\n",
    "    elif(data < root.data):\n",
    "        root.left = delete_bst(root.left, data)\n",
    "    else:\n",
    "        # Node with only one child or no child\n",
    "        if root.left is None:\n",
    "            temp = root.right\n",
    "            root = None\n",
    "            return temp\n",
    "        elif root.right is None:\n",
    "            temp = root.left\n",
    "            root = None\n",
    "            return temp\n",
    "        # Two Child\n",
    "        temp = get_min_node(root.right)\n",
    "        root.data = temp.data\n",
    "        root.right = delete_bst(root.right, temp.data)\n",
    "    return root"
   ]
  },
  {
   "cell_type": "markdown",
   "id": "3d6436dd-23d0-453d-b34d-a88f6c3f01aa",
   "metadata": {
    "tags": []
   },
   "source": [
    "#### [Problem] Given a Binary Tree, print left view of it. Left view of a Binary Tree is set of nodes visible when tree is visited from left side."
   ]
  },
  {
   "cell_type": "code",
   "execution_count": 8,
   "id": "4ed5e463-a272-494d-92fa-7fed7b26598a",
   "metadata": {
    "execution": {
     "iopub.execute_input": "2021-06-03T15:16:00.735996Z",
     "iopub.status.busy": "2021-06-03T15:16:00.735362Z",
     "iopub.status.idle": "2021-06-03T15:16:00.847288Z",
     "shell.execute_reply": "2021-06-03T15:16:00.844958Z",
     "shell.execute_reply.started": "2021-06-03T15:16:00.735918Z"
    },
    "tags": []
   },
   "outputs": [],
   "source": [
    "\"\"\" First depth occurances while In-order Traversing will return all Left view\n",
    "elements. Sort the Key-Value pair based on depth in ascending order. \n",
    "\"\"\"\n",
    "def print_left_view(root):\n",
    "    left_view = {}\n",
    "    left_view = _print_left_view(root, left_view)\n",
    "    print([v for (k, v) in sorted(left_view.items())])\n",
    "    \n",
    "\n",
    "def _print_left_view(root, left_view, depth=-1):\n",
    "    depth += 1\n",
    "    if root.left:\n",
    "        _print_left_view(root.left, left_view, depth)\n",
    "    if depth not in left_view.keys():\n",
    "        left_view[depth] = root.data\n",
    "    if root.right:\n",
    "        _print_left_view(root.right, left_view, depth)\n",
    "    return left_view"
   ]
  },
  {
   "cell_type": "code",
   "execution_count": 9,
   "id": "5773a1c4-0894-4b6c-a801-e042bd829c76",
   "metadata": {
    "execution": {
     "iopub.execute_input": "2021-06-03T15:16:00.851333Z",
     "iopub.status.busy": "2021-06-03T15:16:00.850621Z",
     "iopub.status.idle": "2021-06-03T15:16:00.942413Z",
     "shell.execute_reply": "2021-06-03T15:16:00.941031Z",
     "shell.execute_reply.started": "2021-06-03T15:16:00.851222Z"
    },
    "tags": []
   },
   "outputs": [],
   "source": [
    "# Definition for a binary tree node.\n",
    "# class TreeNode:\n",
    "#     def __init__(self, val=0, left=None, right=None):\n",
    "#         self.val = val\n",
    "#         self.left = left\n",
    "#         self.right = right\n",
    "\n",
    "class Solution:\n",
    "    def return_nodes(self, root, bits_text, ans_temp, depth):\n",
    "        global depth_max\n",
    "        depth += 1\n",
    "        depth_max = max(depth, depth_max)\n",
    "        bits_text += str(root.val)\n",
    "        \n",
    "        if root.left:\n",
    "            self.return_nodes(root.left, bits_text, ans_temp, depth)\n",
    "\n",
    "        if root.right:\n",
    "            self.return_nodes(root.right, bits_text, ans_temp, depth)\n",
    "        \n",
    "        ans_temp.append(bits_text)\n",
    "        return ans_temp\n",
    "    \n",
    "    def sumRootToLeaf(self, root) -> int:\n",
    "        global depth_max\n",
    "        depth_max = -1\n",
    "        ans_t = self.return_nodes(root, \"\", [], -1)\n",
    "        \n",
    "        depth_max = depth_max + 1\n",
    "        sum = 0\n",
    "        for (i, j) in enumerate(ans_t):\n",
    "            if len(j) == depth_max:\n",
    "                print(j, end=\" \")\n",
    "                sum += (int(j, 2))    \n",
    "        return sum        "
   ]
  },
  {
   "cell_type": "markdown",
   "id": "fc1e6829-cb91-423c-ad92-af73f8bf6973",
   "metadata": {
    "tags": []
   },
   "source": [
    "### BST Playground"
   ]
  },
  {
   "cell_type": "code",
   "execution_count": 10,
   "id": "36b170ac-4e2f-415d-a4ed-fd26160da2c4",
   "metadata": {
    "execution": {
     "iopub.execute_input": "2021-06-03T15:16:00.945449Z",
     "iopub.status.busy": "2021-06-03T15:16:00.944835Z",
     "iopub.status.idle": "2021-06-03T15:16:02.559195Z",
     "shell.execute_reply": "2021-06-03T15:16:02.557083Z",
     "shell.execute_reply.started": "2021-06-03T15:16:00.945334Z"
    },
    "tags": []
   },
   "outputs": [
    {
     "data": {
      "text/html": [
       "<br><?xml version=\"1.0\" encoding=\"UTF-8\" standalone=\"no\"?>\n",
       "<!DOCTYPE svg PUBLIC \"-//W3C//DTD SVG 1.1//EN\"\n",
       " \"http://www.w3.org/Graphics/SVG/1.1/DTD/svg11.dtd\">\n",
       "<!-- Generated by graphviz version 2.43.0 (0)\n",
       " -->\n",
       "<!-- Title: BST_TEMP Pages: 1 -->\n",
       "<svg height=\"220pt\" height=\"220pt\"\n",
       " viewBox=\"0.00 0.00 314.00 332.00\" xmlns=\"http://www.w3.org/2000/svg\" xmlns:xlink=\"http://www.w3.org/1999/xlink\">\n",
       "<g id=\"graph0\" class=\"graph\" transform=\"scale(1 1) rotate(0) translate(4 328)\">\n",
       "<title>BST_TEMP</title>\n",
       "<polygon fill=\"white\" stroke=\"transparent\" points=\"-4,4 -4,-328 310,-328 310,4 -4,4\"/>\n",
       "<!-- 50 -->\n",
       "<g id=\"node1\" class=\"node\">\n",
       "<title>50</title>\n",
       "<ellipse fill=\"none\" stroke=\"black\" cx=\"135\" cy=\"-306\" rx=\"27\" ry=\"18\"/>\n",
       "<text text-anchor=\"middle\" x=\"135\" y=\"-302.3\" font-family=\"Times,serif\" font-size=\"14.00\">50</text>\n",
       "</g>\n",
       "<!-- 30 -->\n",
       "<g id=\"node2\" class=\"node\">\n",
       "<title>30</title>\n",
       "<ellipse fill=\"none\" stroke=\"black\" cx=\"99\" cy=\"-234\" rx=\"27\" ry=\"18\"/>\n",
       "<text text-anchor=\"middle\" x=\"99\" y=\"-230.3\" font-family=\"Times,serif\" font-size=\"14.00\">30</text>\n",
       "</g>\n",
       "<!-- 50&#45;&gt;30 -->\n",
       "<g id=\"edge1\" class=\"edge\">\n",
       "<title>50&#45;&gt;30</title>\n",
       "<path fill=\"none\" stroke=\"black\" d=\"M126.65,-288.76C122.29,-280.28 116.85,-269.71 111.96,-260.2\"/>\n",
       "<polygon fill=\"black\" stroke=\"black\" points=\"114.99,-258.44 107.3,-251.15 108.77,-261.64 114.99,-258.44\"/>\n",
       "</g>\n",
       "<!-- 70 -->\n",
       "<g id=\"node3\" class=\"node\">\n",
       "<title>70</title>\n",
       "<ellipse fill=\"none\" stroke=\"black\" cx=\"171\" cy=\"-234\" rx=\"27\" ry=\"18\"/>\n",
       "<text text-anchor=\"middle\" x=\"171\" y=\"-230.3\" font-family=\"Times,serif\" font-size=\"14.00\">70</text>\n",
       "</g>\n",
       "<!-- 50&#45;&gt;70 -->\n",
       "<g id=\"edge2\" class=\"edge\">\n",
       "<title>50&#45;&gt;70</title>\n",
       "<path fill=\"none\" stroke=\"black\" d=\"M143.35,-288.76C147.71,-280.28 153.15,-269.71 158.04,-260.2\"/>\n",
       "<polygon fill=\"black\" stroke=\"black\" points=\"161.23,-261.64 162.7,-251.15 155.01,-258.44 161.23,-261.64\"/>\n",
       "</g>\n",
       "<!-- 20 -->\n",
       "<g id=\"node4\" class=\"node\">\n",
       "<title>20</title>\n",
       "<ellipse fill=\"none\" stroke=\"black\" cx=\"27\" cy=\"-162\" rx=\"27\" ry=\"18\"/>\n",
       "<text text-anchor=\"middle\" x=\"27\" y=\"-158.3\" font-family=\"Times,serif\" font-size=\"14.00\">20</text>\n",
       "</g>\n",
       "<!-- 30&#45;&gt;20 -->\n",
       "<g id=\"edge3\" class=\"edge\">\n",
       "<title>30&#45;&gt;20</title>\n",
       "<path fill=\"none\" stroke=\"black\" d=\"M84.43,-218.83C74.25,-208.94 60.48,-195.55 48.97,-184.36\"/>\n",
       "<polygon fill=\"black\" stroke=\"black\" points=\"51.41,-181.85 41.8,-177.38 46.53,-186.87 51.41,-181.85\"/>\n",
       "</g>\n",
       "<!-- 40 -->\n",
       "<g id=\"node5\" class=\"node\">\n",
       "<title>40</title>\n",
       "<ellipse fill=\"none\" stroke=\"black\" cx=\"99\" cy=\"-162\" rx=\"27\" ry=\"18\"/>\n",
       "<text text-anchor=\"middle\" x=\"99\" y=\"-158.3\" font-family=\"Times,serif\" font-size=\"14.00\">40</text>\n",
       "</g>\n",
       "<!-- 30&#45;&gt;40 -->\n",
       "<g id=\"edge4\" class=\"edge\">\n",
       "<title>30&#45;&gt;40</title>\n",
       "<path fill=\"none\" stroke=\"black\" d=\"M99,-215.7C99,-207.98 99,-198.71 99,-190.11\"/>\n",
       "<polygon fill=\"black\" stroke=\"black\" points=\"102.5,-190.1 99,-180.1 95.5,-190.1 102.5,-190.1\"/>\n",
       "</g>\n",
       "<!-- 60 -->\n",
       "<g id=\"node6\" class=\"node\">\n",
       "<title>60</title>\n",
       "<ellipse fill=\"none\" stroke=\"black\" cx=\"171\" cy=\"-162\" rx=\"27\" ry=\"18\"/>\n",
       "<text text-anchor=\"middle\" x=\"171\" y=\"-158.3\" font-family=\"Times,serif\" font-size=\"14.00\">60</text>\n",
       "</g>\n",
       "<!-- 70&#45;&gt;60 -->\n",
       "<g id=\"edge5\" class=\"edge\">\n",
       "<title>70&#45;&gt;60</title>\n",
       "<path fill=\"none\" stroke=\"black\" d=\"M171,-215.7C171,-207.98 171,-198.71 171,-190.11\"/>\n",
       "<polygon fill=\"black\" stroke=\"black\" points=\"174.5,-190.1 171,-180.1 167.5,-190.1 174.5,-190.1\"/>\n",
       "</g>\n",
       "<!-- 80 -->\n",
       "<g id=\"node7\" class=\"node\">\n",
       "<title>80</title>\n",
       "<ellipse fill=\"none\" stroke=\"black\" cx=\"243\" cy=\"-162\" rx=\"27\" ry=\"18\"/>\n",
       "<text text-anchor=\"middle\" x=\"243\" y=\"-158.3\" font-family=\"Times,serif\" font-size=\"14.00\">80</text>\n",
       "</g>\n",
       "<!-- 70&#45;&gt;80 -->\n",
       "<g id=\"edge6\" class=\"edge\">\n",
       "<title>70&#45;&gt;80</title>\n",
       "<path fill=\"none\" stroke=\"black\" d=\"M185.57,-218.83C195.75,-208.94 209.52,-195.55 221.03,-184.36\"/>\n",
       "<polygon fill=\"black\" stroke=\"black\" points=\"223.47,-186.87 228.2,-177.38 218.59,-181.85 223.47,-186.87\"/>\n",
       "</g>\n",
       "<!-- 79 -->\n",
       "<g id=\"node8\" class=\"node\">\n",
       "<title>79</title>\n",
       "<ellipse fill=\"none\" stroke=\"black\" cx=\"207\" cy=\"-90\" rx=\"27\" ry=\"18\"/>\n",
       "<text text-anchor=\"middle\" x=\"207\" y=\"-86.3\" font-family=\"Times,serif\" font-size=\"14.00\">79</text>\n",
       "</g>\n",
       "<!-- 80&#45;&gt;79 -->\n",
       "<g id=\"edge7\" class=\"edge\">\n",
       "<title>80&#45;&gt;79</title>\n",
       "<path fill=\"none\" stroke=\"black\" d=\"M234.65,-144.76C230.29,-136.28 224.85,-125.71 219.96,-116.2\"/>\n",
       "<polygon fill=\"black\" stroke=\"black\" points=\"222.99,-114.44 215.3,-107.15 216.77,-117.64 222.99,-114.44\"/>\n",
       "</g>\n",
       "<!-- 85 -->\n",
       "<g id=\"node9\" class=\"node\">\n",
       "<title>85</title>\n",
       "<ellipse fill=\"none\" stroke=\"black\" cx=\"279\" cy=\"-90\" rx=\"27\" ry=\"18\"/>\n",
       "<text text-anchor=\"middle\" x=\"279\" y=\"-86.3\" font-family=\"Times,serif\" font-size=\"14.00\">85</text>\n",
       "</g>\n",
       "<!-- 80&#45;&gt;85 -->\n",
       "<g id=\"edge8\" class=\"edge\">\n",
       "<title>80&#45;&gt;85</title>\n",
       "<path fill=\"none\" stroke=\"black\" d=\"M251.35,-144.76C255.71,-136.28 261.15,-125.71 266.04,-116.2\"/>\n",
       "<polygon fill=\"black\" stroke=\"black\" points=\"269.23,-117.64 270.7,-107.15 263.01,-114.44 269.23,-117.64\"/>\n",
       "</g>\n",
       "<!-- 86 -->\n",
       "<g id=\"node10\" class=\"node\">\n",
       "<title>86</title>\n",
       "<ellipse fill=\"none\" stroke=\"black\" cx=\"279\" cy=\"-18\" rx=\"27\" ry=\"18\"/>\n",
       "<text text-anchor=\"middle\" x=\"279\" y=\"-14.3\" font-family=\"Times,serif\" font-size=\"14.00\">86</text>\n",
       "</g>\n",
       "<!-- 85&#45;&gt;86 -->\n",
       "<g id=\"edge9\" class=\"edge\">\n",
       "<title>85&#45;&gt;86</title>\n",
       "<path fill=\"none\" stroke=\"black\" d=\"M279,-71.7C279,-63.98 279,-54.71 279,-46.11\"/>\n",
       "<polygon fill=\"black\" stroke=\"black\" points=\"282.5,-46.1 279,-36.1 275.5,-46.1 282.5,-46.1\"/>\n",
       "</g>\n",
       "</g>\n",
       "</svg>\n"
      ],
      "text/plain": [
       "<IPython.core.display.HTML object>"
      ]
     },
     "metadata": {},
     "output_type": "display_data"
    }
   ],
   "source": [
    "elements = [50, 30, 20, 40, 70, 60, 80, 85, 86, 79]\n",
    "root = Node(elements[0])\n",
    "for i in range(1, len(elements)): root.insert(elements[i])\n",
    "display_bst(root)"
   ]
  },
  {
   "cell_type": "code",
   "execution_count": 11,
   "id": "e72e5636-3bfb-443f-a267-6c4f6f1ffe75",
   "metadata": {
    "execution": {
     "iopub.execute_input": "2021-06-03T15:16:02.561830Z",
     "iopub.status.busy": "2021-06-03T15:16:02.561466Z",
     "iopub.status.idle": "2021-06-03T15:16:02.567937Z",
     "shell.execute_reply": "2021-06-03T15:16:02.567101Z",
     "shell.execute_reply.started": "2021-06-03T15:16:02.561782Z"
    },
    "tags": []
   },
   "outputs": [
    {
     "name": "stdout",
     "output_type": "stream",
     "text": [
      "[50, 30, 20, 79, 86]\n"
     ]
    }
   ],
   "source": [
    "print_left_view(root)"
   ]
  },
  {
   "cell_type": "code",
   "execution_count": 12,
   "id": "ee9d9d5d-364a-4e06-9383-b7fcaecabd44",
   "metadata": {
    "execution": {
     "iopub.execute_input": "2021-06-03T15:16:02.569710Z",
     "iopub.status.busy": "2021-06-03T15:16:02.569306Z",
     "iopub.status.idle": "2021-06-03T15:16:02.689132Z",
     "shell.execute_reply": "2021-06-03T15:16:02.688322Z",
     "shell.execute_reply.started": "2021-06-03T15:16:02.569668Z"
    },
    "tags": []
   },
   "outputs": [
    {
     "data": {
      "text/html": [
       "<br><?xml version=\"1.0\" encoding=\"UTF-8\" standalone=\"no\"?>\n",
       "<!DOCTYPE svg PUBLIC \"-//W3C//DTD SVG 1.1//EN\"\n",
       " \"http://www.w3.org/Graphics/SVG/1.1/DTD/svg11.dtd\">\n",
       "<!-- Generated by graphviz version 2.43.0 (0)\n",
       " -->\n",
       "<!-- Title: BST_TEMP Pages: 1 -->\n",
       "<svg height=\"220pt\" height=\"220pt\"\n",
       " viewBox=\"0.00 0.00 242.00 332.00\" xmlns=\"http://www.w3.org/2000/svg\" xmlns:xlink=\"http://www.w3.org/1999/xlink\">\n",
       "<g id=\"graph0\" class=\"graph\" transform=\"scale(1 1) rotate(0) translate(4 328)\">\n",
       "<title>BST_TEMP</title>\n",
       "<polygon fill=\"white\" stroke=\"transparent\" points=\"-4,4 -4,-328 238,-328 238,4 -4,4\"/>\n",
       "<!-- 50 -->\n",
       "<g id=\"node1\" class=\"node\">\n",
       "<title>50</title>\n",
       "<ellipse fill=\"none\" stroke=\"black\" cx=\"63\" cy=\"-306\" rx=\"27\" ry=\"18\"/>\n",
       "<text text-anchor=\"middle\" x=\"63\" y=\"-302.3\" font-family=\"Times,serif\" font-size=\"14.00\">50</text>\n",
       "</g>\n",
       "<!-- 30 -->\n",
       "<g id=\"node2\" class=\"node\">\n",
       "<title>30</title>\n",
       "<ellipse fill=\"none\" stroke=\"black\" cx=\"27\" cy=\"-234\" rx=\"27\" ry=\"18\"/>\n",
       "<text text-anchor=\"middle\" x=\"27\" y=\"-230.3\" font-family=\"Times,serif\" font-size=\"14.00\">30</text>\n",
       "</g>\n",
       "<!-- 50&#45;&gt;30 -->\n",
       "<g id=\"edge1\" class=\"edge\">\n",
       "<title>50&#45;&gt;30</title>\n",
       "<path fill=\"none\" stroke=\"black\" d=\"M54.65,-288.76C50.29,-280.28 44.85,-269.71 39.96,-260.2\"/>\n",
       "<polygon fill=\"black\" stroke=\"black\" points=\"42.99,-258.44 35.3,-251.15 36.77,-261.64 42.99,-258.44\"/>\n",
       "</g>\n",
       "<!-- 70 -->\n",
       "<g id=\"node3\" class=\"node\">\n",
       "<title>70</title>\n",
       "<ellipse fill=\"none\" stroke=\"black\" cx=\"99\" cy=\"-234\" rx=\"27\" ry=\"18\"/>\n",
       "<text text-anchor=\"middle\" x=\"99\" y=\"-230.3\" font-family=\"Times,serif\" font-size=\"14.00\">70</text>\n",
       "</g>\n",
       "<!-- 50&#45;&gt;70 -->\n",
       "<g id=\"edge2\" class=\"edge\">\n",
       "<title>50&#45;&gt;70</title>\n",
       "<path fill=\"none\" stroke=\"black\" d=\"M71.35,-288.76C75.71,-280.28 81.15,-269.71 86.04,-260.2\"/>\n",
       "<polygon fill=\"black\" stroke=\"black\" points=\"89.23,-261.64 90.7,-251.15 83.01,-258.44 89.23,-261.64\"/>\n",
       "</g>\n",
       "<!-- 40 -->\n",
       "<g id=\"node4\" class=\"node\">\n",
       "<title>40</title>\n",
       "<ellipse fill=\"none\" stroke=\"black\" cx=\"27\" cy=\"-162\" rx=\"27\" ry=\"18\"/>\n",
       "<text text-anchor=\"middle\" x=\"27\" y=\"-158.3\" font-family=\"Times,serif\" font-size=\"14.00\">40</text>\n",
       "</g>\n",
       "<!-- 30&#45;&gt;40 -->\n",
       "<g id=\"edge3\" class=\"edge\">\n",
       "<title>30&#45;&gt;40</title>\n",
       "<path fill=\"none\" stroke=\"black\" d=\"M27,-215.7C27,-207.98 27,-198.71 27,-190.11\"/>\n",
       "<polygon fill=\"black\" stroke=\"black\" points=\"30.5,-190.1 27,-180.1 23.5,-190.1 30.5,-190.1\"/>\n",
       "</g>\n",
       "<!-- 60 -->\n",
       "<g id=\"node5\" class=\"node\">\n",
       "<title>60</title>\n",
       "<ellipse fill=\"none\" stroke=\"black\" cx=\"99\" cy=\"-162\" rx=\"27\" ry=\"18\"/>\n",
       "<text text-anchor=\"middle\" x=\"99\" y=\"-158.3\" font-family=\"Times,serif\" font-size=\"14.00\">60</text>\n",
       "</g>\n",
       "<!-- 70&#45;&gt;60 -->\n",
       "<g id=\"edge4\" class=\"edge\">\n",
       "<title>70&#45;&gt;60</title>\n",
       "<path fill=\"none\" stroke=\"black\" d=\"M99,-215.7C99,-207.98 99,-198.71 99,-190.11\"/>\n",
       "<polygon fill=\"black\" stroke=\"black\" points=\"102.5,-190.1 99,-180.1 95.5,-190.1 102.5,-190.1\"/>\n",
       "</g>\n",
       "<!-- 80 -->\n",
       "<g id=\"node6\" class=\"node\">\n",
       "<title>80</title>\n",
       "<ellipse fill=\"none\" stroke=\"black\" cx=\"171\" cy=\"-162\" rx=\"27\" ry=\"18\"/>\n",
       "<text text-anchor=\"middle\" x=\"171\" y=\"-158.3\" font-family=\"Times,serif\" font-size=\"14.00\">80</text>\n",
       "</g>\n",
       "<!-- 70&#45;&gt;80 -->\n",
       "<g id=\"edge5\" class=\"edge\">\n",
       "<title>70&#45;&gt;80</title>\n",
       "<path fill=\"none\" stroke=\"black\" d=\"M113.57,-218.83C123.75,-208.94 137.52,-195.55 149.03,-184.36\"/>\n",
       "<polygon fill=\"black\" stroke=\"black\" points=\"151.47,-186.87 156.2,-177.38 146.59,-181.85 151.47,-186.87\"/>\n",
       "</g>\n",
       "<!-- 79 -->\n",
       "<g id=\"node7\" class=\"node\">\n",
       "<title>79</title>\n",
       "<ellipse fill=\"none\" stroke=\"black\" cx=\"135\" cy=\"-90\" rx=\"27\" ry=\"18\"/>\n",
       "<text text-anchor=\"middle\" x=\"135\" y=\"-86.3\" font-family=\"Times,serif\" font-size=\"14.00\">79</text>\n",
       "</g>\n",
       "<!-- 80&#45;&gt;79 -->\n",
       "<g id=\"edge6\" class=\"edge\">\n",
       "<title>80&#45;&gt;79</title>\n",
       "<path fill=\"none\" stroke=\"black\" d=\"M162.65,-144.76C158.29,-136.28 152.85,-125.71 147.96,-116.2\"/>\n",
       "<polygon fill=\"black\" stroke=\"black\" points=\"150.99,-114.44 143.3,-107.15 144.77,-117.64 150.99,-114.44\"/>\n",
       "</g>\n",
       "<!-- 85 -->\n",
       "<g id=\"node8\" class=\"node\">\n",
       "<title>85</title>\n",
       "<ellipse fill=\"none\" stroke=\"black\" cx=\"207\" cy=\"-90\" rx=\"27\" ry=\"18\"/>\n",
       "<text text-anchor=\"middle\" x=\"207\" y=\"-86.3\" font-family=\"Times,serif\" font-size=\"14.00\">85</text>\n",
       "</g>\n",
       "<!-- 80&#45;&gt;85 -->\n",
       "<g id=\"edge7\" class=\"edge\">\n",
       "<title>80&#45;&gt;85</title>\n",
       "<path fill=\"none\" stroke=\"black\" d=\"M179.35,-144.76C183.71,-136.28 189.15,-125.71 194.04,-116.2\"/>\n",
       "<polygon fill=\"black\" stroke=\"black\" points=\"197.23,-117.64 198.7,-107.15 191.01,-114.44 197.23,-117.64\"/>\n",
       "</g>\n",
       "<!-- 86 -->\n",
       "<g id=\"node9\" class=\"node\">\n",
       "<title>86</title>\n",
       "<ellipse fill=\"none\" stroke=\"black\" cx=\"207\" cy=\"-18\" rx=\"27\" ry=\"18\"/>\n",
       "<text text-anchor=\"middle\" x=\"207\" y=\"-14.3\" font-family=\"Times,serif\" font-size=\"14.00\">86</text>\n",
       "</g>\n",
       "<!-- 85&#45;&gt;86 -->\n",
       "<g id=\"edge8\" class=\"edge\">\n",
       "<title>85&#45;&gt;86</title>\n",
       "<path fill=\"none\" stroke=\"black\" d=\"M207,-71.7C207,-63.98 207,-54.71 207,-46.11\"/>\n",
       "<polygon fill=\"black\" stroke=\"black\" points=\"210.5,-46.1 207,-36.1 203.5,-46.1 210.5,-46.1\"/>\n",
       "</g>\n",
       "</g>\n",
       "</svg>\n"
      ],
      "text/plain": [
       "<IPython.core.display.HTML object>"
      ]
     },
     "metadata": {},
     "output_type": "display_data"
    }
   ],
   "source": [
    "# Removing node with no children\n",
    "delete_bst(root, 20)\n",
    "display_bst(root)"
   ]
  },
  {
   "cell_type": "code",
   "execution_count": 13,
   "id": "2e4f32f2-4d58-4087-8bae-f199f76d2be6",
   "metadata": {
    "execution": {
     "iopub.execute_input": "2021-06-03T15:16:02.690685Z",
     "iopub.status.busy": "2021-06-03T15:16:02.690430Z",
     "iopub.status.idle": "2021-06-03T15:16:02.785989Z",
     "shell.execute_reply": "2021-06-03T15:16:02.785260Z",
     "shell.execute_reply.started": "2021-06-03T15:16:02.690651Z"
    },
    "tags": []
   },
   "outputs": [
    {
     "data": {
      "text/html": [
       "<br><?xml version=\"1.0\" encoding=\"UTF-8\" standalone=\"no\"?>\n",
       "<!DOCTYPE svg PUBLIC \"-//W3C//DTD SVG 1.1//EN\"\n",
       " \"http://www.w3.org/Graphics/SVG/1.1/DTD/svg11.dtd\">\n",
       "<!-- Generated by graphviz version 2.43.0 (0)\n",
       " -->\n",
       "<!-- Title: BST_TEMP Pages: 1 -->\n",
       "<svg height=\"220pt\" height=\"220pt\"\n",
       " viewBox=\"0.00 0.00 206.00 332.00\" xmlns=\"http://www.w3.org/2000/svg\" xmlns:xlink=\"http://www.w3.org/1999/xlink\">\n",
       "<g id=\"graph0\" class=\"graph\" transform=\"scale(1 1) rotate(0) translate(4 328)\">\n",
       "<title>BST_TEMP</title>\n",
       "<polygon fill=\"white\" stroke=\"transparent\" points=\"-4,4 -4,-328 202,-328 202,4 -4,4\"/>\n",
       "<!-- 50 -->\n",
       "<g id=\"node1\" class=\"node\">\n",
       "<title>50</title>\n",
       "<ellipse fill=\"none\" stroke=\"black\" cx=\"63\" cy=\"-306\" rx=\"27\" ry=\"18\"/>\n",
       "<text text-anchor=\"middle\" x=\"63\" y=\"-302.3\" font-family=\"Times,serif\" font-size=\"14.00\">50</text>\n",
       "</g>\n",
       "<!-- 40 -->\n",
       "<g id=\"node2\" class=\"node\">\n",
       "<title>40</title>\n",
       "<ellipse fill=\"none\" stroke=\"black\" cx=\"27\" cy=\"-234\" rx=\"27\" ry=\"18\"/>\n",
       "<text text-anchor=\"middle\" x=\"27\" y=\"-230.3\" font-family=\"Times,serif\" font-size=\"14.00\">40</text>\n",
       "</g>\n",
       "<!-- 50&#45;&gt;40 -->\n",
       "<g id=\"edge1\" class=\"edge\">\n",
       "<title>50&#45;&gt;40</title>\n",
       "<path fill=\"none\" stroke=\"black\" d=\"M54.65,-288.76C50.29,-280.28 44.85,-269.71 39.96,-260.2\"/>\n",
       "<polygon fill=\"black\" stroke=\"black\" points=\"42.99,-258.44 35.3,-251.15 36.77,-261.64 42.99,-258.44\"/>\n",
       "</g>\n",
       "<!-- 70 -->\n",
       "<g id=\"node3\" class=\"node\">\n",
       "<title>70</title>\n",
       "<ellipse fill=\"none\" stroke=\"black\" cx=\"99\" cy=\"-234\" rx=\"27\" ry=\"18\"/>\n",
       "<text text-anchor=\"middle\" x=\"99\" y=\"-230.3\" font-family=\"Times,serif\" font-size=\"14.00\">70</text>\n",
       "</g>\n",
       "<!-- 50&#45;&gt;70 -->\n",
       "<g id=\"edge2\" class=\"edge\">\n",
       "<title>50&#45;&gt;70</title>\n",
       "<path fill=\"none\" stroke=\"black\" d=\"M71.35,-288.76C75.71,-280.28 81.15,-269.71 86.04,-260.2\"/>\n",
       "<polygon fill=\"black\" stroke=\"black\" points=\"89.23,-261.64 90.7,-251.15 83.01,-258.44 89.23,-261.64\"/>\n",
       "</g>\n",
       "<!-- 60 -->\n",
       "<g id=\"node4\" class=\"node\">\n",
       "<title>60</title>\n",
       "<ellipse fill=\"none\" stroke=\"black\" cx=\"63\" cy=\"-162\" rx=\"27\" ry=\"18\"/>\n",
       "<text text-anchor=\"middle\" x=\"63\" y=\"-158.3\" font-family=\"Times,serif\" font-size=\"14.00\">60</text>\n",
       "</g>\n",
       "<!-- 70&#45;&gt;60 -->\n",
       "<g id=\"edge3\" class=\"edge\">\n",
       "<title>70&#45;&gt;60</title>\n",
       "<path fill=\"none\" stroke=\"black\" d=\"M90.65,-216.76C86.29,-208.28 80.85,-197.71 75.96,-188.2\"/>\n",
       "<polygon fill=\"black\" stroke=\"black\" points=\"78.99,-186.44 71.3,-179.15 72.77,-189.64 78.99,-186.44\"/>\n",
       "</g>\n",
       "<!-- 80 -->\n",
       "<g id=\"node5\" class=\"node\">\n",
       "<title>80</title>\n",
       "<ellipse fill=\"none\" stroke=\"black\" cx=\"135\" cy=\"-162\" rx=\"27\" ry=\"18\"/>\n",
       "<text text-anchor=\"middle\" x=\"135\" y=\"-158.3\" font-family=\"Times,serif\" font-size=\"14.00\">80</text>\n",
       "</g>\n",
       "<!-- 70&#45;&gt;80 -->\n",
       "<g id=\"edge4\" class=\"edge\">\n",
       "<title>70&#45;&gt;80</title>\n",
       "<path fill=\"none\" stroke=\"black\" d=\"M107.35,-216.76C111.71,-208.28 117.15,-197.71 122.04,-188.2\"/>\n",
       "<polygon fill=\"black\" stroke=\"black\" points=\"125.23,-189.64 126.7,-179.15 119.01,-186.44 125.23,-189.64\"/>\n",
       "</g>\n",
       "<!-- 79 -->\n",
       "<g id=\"node6\" class=\"node\">\n",
       "<title>79</title>\n",
       "<ellipse fill=\"none\" stroke=\"black\" cx=\"99\" cy=\"-90\" rx=\"27\" ry=\"18\"/>\n",
       "<text text-anchor=\"middle\" x=\"99\" y=\"-86.3\" font-family=\"Times,serif\" font-size=\"14.00\">79</text>\n",
       "</g>\n",
       "<!-- 80&#45;&gt;79 -->\n",
       "<g id=\"edge5\" class=\"edge\">\n",
       "<title>80&#45;&gt;79</title>\n",
       "<path fill=\"none\" stroke=\"black\" d=\"M126.65,-144.76C122.29,-136.28 116.85,-125.71 111.96,-116.2\"/>\n",
       "<polygon fill=\"black\" stroke=\"black\" points=\"114.99,-114.44 107.3,-107.15 108.77,-117.64 114.99,-114.44\"/>\n",
       "</g>\n",
       "<!-- 85 -->\n",
       "<g id=\"node7\" class=\"node\">\n",
       "<title>85</title>\n",
       "<ellipse fill=\"none\" stroke=\"black\" cx=\"171\" cy=\"-90\" rx=\"27\" ry=\"18\"/>\n",
       "<text text-anchor=\"middle\" x=\"171\" y=\"-86.3\" font-family=\"Times,serif\" font-size=\"14.00\">85</text>\n",
       "</g>\n",
       "<!-- 80&#45;&gt;85 -->\n",
       "<g id=\"edge6\" class=\"edge\">\n",
       "<title>80&#45;&gt;85</title>\n",
       "<path fill=\"none\" stroke=\"black\" d=\"M143.35,-144.76C147.71,-136.28 153.15,-125.71 158.04,-116.2\"/>\n",
       "<polygon fill=\"black\" stroke=\"black\" points=\"161.23,-117.64 162.7,-107.15 155.01,-114.44 161.23,-117.64\"/>\n",
       "</g>\n",
       "<!-- 86 -->\n",
       "<g id=\"node8\" class=\"node\">\n",
       "<title>86</title>\n",
       "<ellipse fill=\"none\" stroke=\"black\" cx=\"171\" cy=\"-18\" rx=\"27\" ry=\"18\"/>\n",
       "<text text-anchor=\"middle\" x=\"171\" y=\"-14.3\" font-family=\"Times,serif\" font-size=\"14.00\">86</text>\n",
       "</g>\n",
       "<!-- 85&#45;&gt;86 -->\n",
       "<g id=\"edge7\" class=\"edge\">\n",
       "<title>85&#45;&gt;86</title>\n",
       "<path fill=\"none\" stroke=\"black\" d=\"M171,-71.7C171,-63.98 171,-54.71 171,-46.11\"/>\n",
       "<polygon fill=\"black\" stroke=\"black\" points=\"174.5,-46.1 171,-36.1 167.5,-46.1 174.5,-46.1\"/>\n",
       "</g>\n",
       "</g>\n",
       "</svg>\n"
      ],
      "text/plain": [
       "<IPython.core.display.HTML object>"
      ]
     },
     "metadata": {},
     "output_type": "display_data"
    }
   ],
   "source": [
    "# Removing node with 1 child\n",
    "delete_bst(root, 30)\n",
    "display_bst(root)"
   ]
  },
  {
   "cell_type": "code",
   "execution_count": 14,
   "id": "9e397bdd-5a00-422a-a0fd-668bdcdff5a9",
   "metadata": {
    "execution": {
     "iopub.execute_input": "2021-06-03T15:16:02.787405Z",
     "iopub.status.busy": "2021-06-03T15:16:02.787175Z",
     "iopub.status.idle": "2021-06-03T15:16:02.885280Z",
     "shell.execute_reply": "2021-06-03T15:16:02.884398Z",
     "shell.execute_reply.started": "2021-06-03T15:16:02.787375Z"
    },
    "tags": []
   },
   "outputs": [
    {
     "data": {
      "text/html": [
       "<br><?xml version=\"1.0\" encoding=\"UTF-8\" standalone=\"no\"?>\n",
       "<!DOCTYPE svg PUBLIC \"-//W3C//DTD SVG 1.1//EN\"\n",
       " \"http://www.w3.org/Graphics/SVG/1.1/DTD/svg11.dtd\">\n",
       "<!-- Generated by graphviz version 2.43.0 (0)\n",
       " -->\n",
       "<!-- Title: BST_TEMP Pages: 1 -->\n",
       "<svg height=\"220pt\" height=\"220pt\"\n",
       " viewBox=\"0.00 0.00 170.00 332.00\" xmlns=\"http://www.w3.org/2000/svg\" xmlns:xlink=\"http://www.w3.org/1999/xlink\">\n",
       "<g id=\"graph0\" class=\"graph\" transform=\"scale(1 1) rotate(0) translate(4 328)\">\n",
       "<title>BST_TEMP</title>\n",
       "<polygon fill=\"white\" stroke=\"transparent\" points=\"-4,4 -4,-328 166,-328 166,4 -4,4\"/>\n",
       "<!-- 60 -->\n",
       "<g id=\"node1\" class=\"node\">\n",
       "<title>60</title>\n",
       "<ellipse fill=\"none\" stroke=\"black\" cx=\"63\" cy=\"-306\" rx=\"27\" ry=\"18\"/>\n",
       "<text text-anchor=\"middle\" x=\"63\" y=\"-302.3\" font-family=\"Times,serif\" font-size=\"14.00\">60</text>\n",
       "</g>\n",
       "<!-- 40 -->\n",
       "<g id=\"node2\" class=\"node\">\n",
       "<title>40</title>\n",
       "<ellipse fill=\"none\" stroke=\"black\" cx=\"27\" cy=\"-234\" rx=\"27\" ry=\"18\"/>\n",
       "<text text-anchor=\"middle\" x=\"27\" y=\"-230.3\" font-family=\"Times,serif\" font-size=\"14.00\">40</text>\n",
       "</g>\n",
       "<!-- 60&#45;&gt;40 -->\n",
       "<g id=\"edge1\" class=\"edge\">\n",
       "<title>60&#45;&gt;40</title>\n",
       "<path fill=\"none\" stroke=\"black\" d=\"M54.65,-288.76C50.29,-280.28 44.85,-269.71 39.96,-260.2\"/>\n",
       "<polygon fill=\"black\" stroke=\"black\" points=\"42.99,-258.44 35.3,-251.15 36.77,-261.64 42.99,-258.44\"/>\n",
       "</g>\n",
       "<!-- 70 -->\n",
       "<g id=\"node3\" class=\"node\">\n",
       "<title>70</title>\n",
       "<ellipse fill=\"none\" stroke=\"black\" cx=\"99\" cy=\"-234\" rx=\"27\" ry=\"18\"/>\n",
       "<text text-anchor=\"middle\" x=\"99\" y=\"-230.3\" font-family=\"Times,serif\" font-size=\"14.00\">70</text>\n",
       "</g>\n",
       "<!-- 60&#45;&gt;70 -->\n",
       "<g id=\"edge2\" class=\"edge\">\n",
       "<title>60&#45;&gt;70</title>\n",
       "<path fill=\"none\" stroke=\"black\" d=\"M71.35,-288.76C75.71,-280.28 81.15,-269.71 86.04,-260.2\"/>\n",
       "<polygon fill=\"black\" stroke=\"black\" points=\"89.23,-261.64 90.7,-251.15 83.01,-258.44 89.23,-261.64\"/>\n",
       "</g>\n",
       "<!-- 80 -->\n",
       "<g id=\"node4\" class=\"node\">\n",
       "<title>80</title>\n",
       "<ellipse fill=\"none\" stroke=\"black\" cx=\"99\" cy=\"-162\" rx=\"27\" ry=\"18\"/>\n",
       "<text text-anchor=\"middle\" x=\"99\" y=\"-158.3\" font-family=\"Times,serif\" font-size=\"14.00\">80</text>\n",
       "</g>\n",
       "<!-- 70&#45;&gt;80 -->\n",
       "<g id=\"edge3\" class=\"edge\">\n",
       "<title>70&#45;&gt;80</title>\n",
       "<path fill=\"none\" stroke=\"black\" d=\"M99,-215.7C99,-207.98 99,-198.71 99,-190.11\"/>\n",
       "<polygon fill=\"black\" stroke=\"black\" points=\"102.5,-190.1 99,-180.1 95.5,-190.1 102.5,-190.1\"/>\n",
       "</g>\n",
       "<!-- 79 -->\n",
       "<g id=\"node5\" class=\"node\">\n",
       "<title>79</title>\n",
       "<ellipse fill=\"none\" stroke=\"black\" cx=\"63\" cy=\"-90\" rx=\"27\" ry=\"18\"/>\n",
       "<text text-anchor=\"middle\" x=\"63\" y=\"-86.3\" font-family=\"Times,serif\" font-size=\"14.00\">79</text>\n",
       "</g>\n",
       "<!-- 80&#45;&gt;79 -->\n",
       "<g id=\"edge4\" class=\"edge\">\n",
       "<title>80&#45;&gt;79</title>\n",
       "<path fill=\"none\" stroke=\"black\" d=\"M90.65,-144.76C86.29,-136.28 80.85,-125.71 75.96,-116.2\"/>\n",
       "<polygon fill=\"black\" stroke=\"black\" points=\"78.99,-114.44 71.3,-107.15 72.77,-117.64 78.99,-114.44\"/>\n",
       "</g>\n",
       "<!-- 85 -->\n",
       "<g id=\"node6\" class=\"node\">\n",
       "<title>85</title>\n",
       "<ellipse fill=\"none\" stroke=\"black\" cx=\"135\" cy=\"-90\" rx=\"27\" ry=\"18\"/>\n",
       "<text text-anchor=\"middle\" x=\"135\" y=\"-86.3\" font-family=\"Times,serif\" font-size=\"14.00\">85</text>\n",
       "</g>\n",
       "<!-- 80&#45;&gt;85 -->\n",
       "<g id=\"edge5\" class=\"edge\">\n",
       "<title>80&#45;&gt;85</title>\n",
       "<path fill=\"none\" stroke=\"black\" d=\"M107.35,-144.76C111.71,-136.28 117.15,-125.71 122.04,-116.2\"/>\n",
       "<polygon fill=\"black\" stroke=\"black\" points=\"125.23,-117.64 126.7,-107.15 119.01,-114.44 125.23,-117.64\"/>\n",
       "</g>\n",
       "<!-- 86 -->\n",
       "<g id=\"node7\" class=\"node\">\n",
       "<title>86</title>\n",
       "<ellipse fill=\"none\" stroke=\"black\" cx=\"135\" cy=\"-18\" rx=\"27\" ry=\"18\"/>\n",
       "<text text-anchor=\"middle\" x=\"135\" y=\"-14.3\" font-family=\"Times,serif\" font-size=\"14.00\">86</text>\n",
       "</g>\n",
       "<!-- 85&#45;&gt;86 -->\n",
       "<g id=\"edge6\" class=\"edge\">\n",
       "<title>85&#45;&gt;86</title>\n",
       "<path fill=\"none\" stroke=\"black\" d=\"M135,-71.7C135,-63.98 135,-54.71 135,-46.11\"/>\n",
       "<polygon fill=\"black\" stroke=\"black\" points=\"138.5,-46.1 135,-36.1 131.5,-46.1 138.5,-46.1\"/>\n",
       "</g>\n",
       "</g>\n",
       "</svg>\n"
      ],
      "text/plain": [
       "<IPython.core.display.HTML object>"
      ]
     },
     "metadata": {},
     "output_type": "display_data"
    }
   ],
   "source": [
    "# Removing node with 2 children\n",
    "delete_bst(root, 50)\n",
    "display_bst(root)"
   ]
  },
  {
   "cell_type": "markdown",
   "id": "d31c9b29-3c1e-4a00-8a0a-e7b9440ea9d9",
   "metadata": {
    "tags": []
   },
   "source": [
    "## Undirected Graphs"
   ]
  },
  {
   "cell_type": "code",
   "execution_count": 15,
   "id": "9d4dd9d7-350d-43c5-a7c5-ffeb3f711de8",
   "metadata": {
    "execution": {
     "iopub.execute_input": "2021-06-03T15:16:02.886855Z",
     "iopub.status.busy": "2021-06-03T15:16:02.886593Z",
     "iopub.status.idle": "2021-06-03T15:16:02.961921Z",
     "shell.execute_reply": "2021-06-03T15:16:02.959929Z",
     "shell.execute_reply.started": "2021-06-03T15:16:02.886822Z"
    },
    "tags": []
   },
   "outputs": [],
   "source": [
    "# For Visualizing Graphs\n",
    "def display_graph(graph, height=200):\n",
    "    text =\"overlap = false; edge [arrowhead=none,arrowtail=none];\"\n",
    "    for i in graph:\n",
    "        for j in graph[i]:\n",
    "            text += arrow_string(i, j)\n",
    "    visualize(text,height)"
   ]
  },
  {
   "cell_type": "code",
   "execution_count": 16,
   "id": "171d1122-4875-4448-93e0-c4b2d1a48f7f",
   "metadata": {
    "execution": {
     "iopub.execute_input": "2021-06-03T15:16:02.966196Z",
     "iopub.status.busy": "2021-06-03T15:16:02.965325Z",
     "iopub.status.idle": "2021-06-03T15:16:03.051200Z",
     "shell.execute_reply": "2021-06-03T15:16:03.049223Z",
     "shell.execute_reply.started": "2021-06-03T15:16:02.966084Z"
    },
    "tags": []
   },
   "outputs": [],
   "source": [
    "graph_1 = {\n",
    "    '1': set(['2', '3']),\n",
    "    '2': set(['4', '5']),\n",
    "    '3': set([]),\n",
    "    '4': set([]),\n",
    "    '5': set([]),\n",
    "    }\n",
    "\n",
    "graph_2 = {\n",
    "    '0': set(['1', '2']),\n",
    "    '1': set(['0', '3', '4']),\n",
    "    '2': set(['0']),\n",
    "    '3': set(['1']),\n",
    "    '4': set(['2', '3']),\n",
    "    }\n",
    "\n",
    "graph_3 = {\n",
    "    '2': set([]),\n",
    "    '3': set(['2', '4']),\n",
    "    '4': set(['8']),\n",
    "    '5': set(['3', '7']),\n",
    "    '7': set(['8']),\n",
    "    '8': set([]),\n",
    "    }\n",
    "\n",
    "graph_temp = {\n",
    " 'hit' : {'hot'},\n",
    " 'hot' : {'dot', 'lot', 'hit'},\n",
    " 'dot' : {'hot', 'lot', 'dog'},\n",
    " 'dog' : {'log', 'dot', 'cog'},\n",
    " 'lot' : {'log', 'hot', 'dot'},\n",
    " 'log' : {'lot', 'cog', 'dog'},\n",
    " 'cog' : {'log', 'dog'}\n",
    "}\n"
   ]
  },
  {
   "cell_type": "code",
   "execution_count": 17,
   "id": "33fa7fe1-63df-4aba-886c-d3e6b948a152",
   "metadata": {
    "execution": {
     "iopub.execute_input": "2021-06-03T15:16:03.055519Z",
     "iopub.status.busy": "2021-06-03T15:16:03.054640Z",
     "iopub.status.idle": "2021-06-03T15:16:03.193424Z",
     "shell.execute_reply": "2021-06-03T15:16:03.192639Z",
     "shell.execute_reply.started": "2021-06-03T15:16:03.055407Z"
    },
    "tags": []
   },
   "outputs": [
    {
     "data": {
      "text/html": [
       "<br><?xml version=\"1.0\" encoding=\"UTF-8\" standalone=\"no\"?>\n",
       "<!DOCTYPE svg PUBLIC \"-//W3C//DTD SVG 1.1//EN\"\n",
       " \"http://www.w3.org/Graphics/SVG/1.1/DTD/svg11.dtd\">\n",
       "<!-- Generated by graphviz version 2.43.0 (0)\n",
       " -->\n",
       "<!-- Title: BST_TEMP Pages: 1 -->\n",
       "<svg height=\"200pt\" height=\"200pt\"\n",
       " viewBox=\"0.00 0.00 224.00 476.00\" xmlns=\"http://www.w3.org/2000/svg\" xmlns:xlink=\"http://www.w3.org/1999/xlink\">\n",
       "<g id=\"graph0\" class=\"graph\" transform=\"scale(1 1) rotate(0) translate(4 472)\">\n",
       "<title>BST_TEMP</title>\n",
       "<polygon fill=\"white\" stroke=\"transparent\" points=\"-4,4 -4,-472 220,-472 220,4 -4,4\"/>\n",
       "<!-- hit -->\n",
       "<g id=\"node1\" class=\"node\">\n",
       "<title>hit</title>\n",
       "<ellipse fill=\"none\" stroke=\"black\" cx=\"41\" cy=\"-450\" rx=\"27\" ry=\"18\"/>\n",
       "<text text-anchor=\"middle\" x=\"41\" y=\"-446.3\" font-family=\"Times,serif\" font-size=\"14.00\">hit</text>\n",
       "</g>\n",
       "<!-- hot -->\n",
       "<g id=\"node2\" class=\"node\">\n",
       "<title>hot</title>\n",
       "<ellipse fill=\"none\" stroke=\"black\" cx=\"41\" cy=\"-378\" rx=\"27\" ry=\"18\"/>\n",
       "<text text-anchor=\"middle\" x=\"41\" y=\"-374.3\" font-family=\"Times,serif\" font-size=\"14.00\">hot</text>\n",
       "</g>\n",
       "<!-- hit&#45;&gt;hot -->\n",
       "<g id=\"edge1\" class=\"edge\">\n",
       "<title>hit&#45;&gt;hot</title>\n",
       "<path fill=\"none\" stroke=\"black\" d=\"M35.16,-432.41C33.96,-421.41 33.95,-407.03 35.12,-395.96\"/>\n",
       "</g>\n",
       "<!-- hot&#45;&gt;hit -->\n",
       "<g id=\"edge2\" class=\"edge\">\n",
       "<title>hot&#45;&gt;hit</title>\n",
       "<path fill=\"none\" stroke=\"black\" d=\"M46.88,-395.96C48.05,-407.03 48.04,-421.41 46.84,-432.41\"/>\n",
       "</g>\n",
       "<!-- lot -->\n",
       "<g id=\"node3\" class=\"node\">\n",
       "<title>lot</title>\n",
       "<ellipse fill=\"none\" stroke=\"black\" cx=\"65\" cy=\"-18\" rx=\"27\" ry=\"18\"/>\n",
       "<text text-anchor=\"middle\" x=\"65\" y=\"-14.3\" font-family=\"Times,serif\" font-size=\"14.00\">lot</text>\n",
       "</g>\n",
       "<!-- hot&#45;&gt;lot -->\n",
       "<g id=\"edge3\" class=\"edge\">\n",
       "<title>hot&#45;&gt;lot</title>\n",
       "<path fill=\"none\" stroke=\"black\" d=\"M29.58,-361.5C16.89,-335.67 0,-282 0,-235 0,-235 0,-235 0,-161 0,-111.18 30.2,-57.95 49.81,-33.19\"/>\n",
       "</g>\n",
       "<!-- dot -->\n",
       "<g id=\"node4\" class=\"node\">\n",
       "<title>dot</title>\n",
       "<ellipse fill=\"none\" stroke=\"black\" cx=\"73\" cy=\"-306\" rx=\"27\" ry=\"18\"/>\n",
       "<text text-anchor=\"middle\" x=\"73\" y=\"-302.3\" font-family=\"Times,serif\" font-size=\"14.00\">dot</text>\n",
       "</g>\n",
       "<!-- hot&#45;&gt;dot -->\n",
       "<g id=\"edge4\" class=\"edge\">\n",
       "<title>hot&#45;&gt;dot</title>\n",
       "<path fill=\"none\" stroke=\"black\" d=\"M42.99,-359.7C47.06,-348.2 53.98,-333.24 60.37,-322.2\"/>\n",
       "</g>\n",
       "<!-- lot&#45;&gt;hot -->\n",
       "<g id=\"edge11\" class=\"edge\">\n",
       "<title>lot&#45;&gt;hot</title>\n",
       "<path fill=\"none\" stroke=\"black\" d=\"M59.43,-35.65C46.3,-61.35 18,-112.77 18,-161 18,-235 18,-235 18,-235 18,-280.99 34.17,-333.36 40.29,-359.79\"/>\n",
       "</g>\n",
       "<!-- lot&#45;&gt;dot -->\n",
       "<g id=\"edge13\" class=\"edge\">\n",
       "<title>lot&#45;&gt;dot</title>\n",
       "<path fill=\"none\" stroke=\"black\" d=\"M68.88,-35.94C74.76,-86.7 78.97,-237.1 75.94,-287.97\"/>\n",
       "</g>\n",
       "<!-- log -->\n",
       "<g id=\"node6\" class=\"node\">\n",
       "<title>log</title>\n",
       "<ellipse fill=\"none\" stroke=\"black\" cx=\"129\" cy=\"-90\" rx=\"27\" ry=\"18\"/>\n",
       "<text text-anchor=\"middle\" x=\"129\" y=\"-86.3\" font-family=\"Times,serif\" font-size=\"14.00\">log</text>\n",
       "</g>\n",
       "<!-- lot&#45;&gt;log -->\n",
       "<g id=\"edge12\" class=\"edge\">\n",
       "<title>lot&#45;&gt;log</title>\n",
       "<path fill=\"none\" stroke=\"black\" d=\"M82.62,-32.33C94.76,-43.83 110.11,-60.49 119.96,-72.76\"/>\n",
       "</g>\n",
       "<!-- dot&#45;&gt;hot -->\n",
       "<g id=\"edge5\" class=\"edge\">\n",
       "<title>dot&#45;&gt;hot</title>\n",
       "<path fill=\"none\" stroke=\"black\" d=\"M71.07,-324.13C67,-335.65 60.05,-350.71 53.62,-361.81\"/>\n",
       "</g>\n",
       "<!-- dot&#45;&gt;lot -->\n",
       "<g id=\"edge6\" class=\"edge\">\n",
       "<title>dot&#45;&gt;lot</title>\n",
       "<path fill=\"none\" stroke=\"black\" d=\"M69.11,-287.97C63.24,-237.1 59.03,-86.7 62.07,-35.94\"/>\n",
       "</g>\n",
       "<!-- dog -->\n",
       "<g id=\"node5\" class=\"node\">\n",
       "<title>dog</title>\n",
       "<ellipse fill=\"none\" stroke=\"black\" cx=\"129\" cy=\"-234\" rx=\"27\" ry=\"18\"/>\n",
       "<text text-anchor=\"middle\" x=\"129\" y=\"-230.3\" font-family=\"Times,serif\" font-size=\"14.00\">dog</text>\n",
       "</g>\n",
       "<!-- dot&#45;&gt;dog -->\n",
       "<g id=\"edge7\" class=\"edge\">\n",
       "<title>dot&#45;&gt;dog</title>\n",
       "<path fill=\"none\" stroke=\"black\" d=\"M80.43,-288.41C88.81,-276.28 101.93,-260.03 112.6,-248.65\"/>\n",
       "</g>\n",
       "<!-- dog&#45;&gt;dot -->\n",
       "<g id=\"edge10\" class=\"edge\">\n",
       "<title>dog&#45;&gt;dot</title>\n",
       "<path fill=\"none\" stroke=\"black\" d=\"M121.69,-251.41C113.28,-263.61 100,-280.06 89.26,-291.5\"/>\n",
       "</g>\n",
       "<!-- dog&#45;&gt;log -->\n",
       "<g id=\"edge8\" class=\"edge\">\n",
       "<title>dog&#45;&gt;log</title>\n",
       "<path fill=\"none\" stroke=\"black\" d=\"M124.45,-216.15C121.52,-188.82 121.52,-135.14 124.45,-107.82\"/>\n",
       "</g>\n",
       "<!-- cog -->\n",
       "<g id=\"node7\" class=\"node\">\n",
       "<title>cog</title>\n",
       "<ellipse fill=\"none\" stroke=\"black\" cx=\"189\" cy=\"-162\" rx=\"27\" ry=\"18\"/>\n",
       "<text text-anchor=\"middle\" x=\"189\" y=\"-158.3\" font-family=\"Times,serif\" font-size=\"14.00\">cog</text>\n",
       "</g>\n",
       "<!-- dog&#45;&gt;cog -->\n",
       "<g id=\"edge9\" class=\"edge\">\n",
       "<title>dog&#45;&gt;cog</title>\n",
       "<path fill=\"none\" stroke=\"black\" d=\"M137.12,-216.76C146.26,-204.49 160.66,-187.83 172.14,-176.33\"/>\n",
       "</g>\n",
       "<!-- log&#45;&gt;lot -->\n",
       "<g id=\"edge15\" class=\"edge\">\n",
       "<title>log&#45;&gt;lot</title>\n",
       "<path fill=\"none\" stroke=\"black\" d=\"M111.55,-75.83C99.33,-64.27 83.79,-47.41 73.9,-35.06\"/>\n",
       "</g>\n",
       "<!-- log&#45;&gt;dog -->\n",
       "<g id=\"edge14\" class=\"edge\">\n",
       "<title>log&#45;&gt;dog</title>\n",
       "<path fill=\"none\" stroke=\"black\" d=\"M133.55,-107.82C136.48,-135.14 136.48,-188.82 133.55,-216.15\"/>\n",
       "</g>\n",
       "<!-- log&#45;&gt;cog -->\n",
       "<g id=\"edge16\" class=\"edge\">\n",
       "<title>log&#45;&gt;cog</title>\n",
       "<path fill=\"none\" stroke=\"black\" d=\"M145.86,-104.33C157.34,-115.83 171.74,-132.49 180.88,-144.76\"/>\n",
       "</g>\n",
       "<!-- cog&#45;&gt;dog -->\n",
       "<g id=\"edge17\" class=\"edge\">\n",
       "<title>cog&#45;&gt;dog</title>\n",
       "<path fill=\"none\" stroke=\"black\" d=\"M180.83,-179.31C171.64,-191.64 157.18,-208.35 145.7,-219.83\"/>\n",
       "</g>\n",
       "<!-- cog&#45;&gt;log -->\n",
       "<g id=\"edge18\" class=\"edge\">\n",
       "<title>cog&#45;&gt;log</title>\n",
       "<path fill=\"none\" stroke=\"black\" d=\"M172.3,-147.83C160.82,-136.35 146.36,-119.64 137.17,-107.31\"/>\n",
       "</g>\n",
       "</g>\n",
       "</svg>\n"
      ],
      "text/plain": [
       "<IPython.core.display.HTML object>"
      ]
     },
     "metadata": {},
     "output_type": "display_data"
    }
   ],
   "source": [
    "display_graph(graph_temp)"
   ]
  },
  {
   "cell_type": "markdown",
   "id": "651b630c-f7c6-4c31-9a29-0d61bb36d88e",
   "metadata": {
    "tags": []
   },
   "source": [
    "### Depth First Search (DFS)"
   ]
  },
  {
   "cell_type": "code",
   "execution_count": 18,
   "id": "f9cf2ee8-7147-4f05-9416-2165769d649c",
   "metadata": {
    "execution": {
     "iopub.execute_input": "2021-06-03T15:16:03.195341Z",
     "iopub.status.busy": "2021-06-03T15:16:03.194994Z",
     "iopub.status.idle": "2021-06-03T15:16:03.295365Z",
     "shell.execute_reply": "2021-06-03T15:16:03.293314Z",
     "shell.execute_reply.started": "2021-06-03T15:16:03.195271Z"
    },
    "tags": []
   },
   "outputs": [],
   "source": [
    "# We use sets since it cannot have duplicates\n",
    "def dfs(graph, start, visited=None):\n",
    "    if visited is None:\n",
    "        print(\"Path: \", end=\" \")\n",
    "        visited = set()\n",
    "    visited.add(start)\n",
    "    print(start, end=\" \")\n",
    "    for next in graph[start]-visited:\n",
    "        dfs(graph, next, visited)\n",
    "    return visited"
   ]
  },
  {
   "cell_type": "code",
   "execution_count": 19,
   "id": "bafc622e-4eab-44a4-9153-57a90bb4488e",
   "metadata": {
    "execution": {
     "iopub.execute_input": "2021-06-03T15:16:03.297957Z",
     "iopub.status.busy": "2021-06-03T15:16:03.297481Z",
     "iopub.status.idle": "2021-06-03T15:16:03.407386Z",
     "shell.execute_reply": "2021-06-03T15:16:03.406168Z",
     "shell.execute_reply.started": "2021-06-03T15:16:03.297896Z"
    },
    "tags": []
   },
   "outputs": [
    {
     "name": "stdout",
     "output_type": "stream",
     "text": [
      "Path:  0 1 3 4 2 2 \n",
      "Visited:  1 3 4 0 2 "
     ]
    }
   ],
   "source": [
    "visited = dfs(graph_2, '0')\n",
    "print(\"\\nVisited: \", end=\" \") \n",
    "for v in visited: print(v, end=\" \")"
   ]
  },
  {
   "cell_type": "markdown",
   "id": "5ff98de4-a7db-4b42-821a-725c726e9f71",
   "metadata": {
    "tags": []
   },
   "source": [
    "### Breadth First Search (BFS)"
   ]
  },
  {
   "cell_type": "code",
   "execution_count": 20,
   "id": "c79e7bf8-8c6e-4080-8dd0-0d8c6f99b7b6",
   "metadata": {
    "execution": {
     "iopub.execute_input": "2021-06-03T15:16:03.411380Z",
     "iopub.status.busy": "2021-06-03T15:16:03.410836Z",
     "iopub.status.idle": "2021-06-03T15:16:03.558792Z",
     "shell.execute_reply": "2021-06-03T15:16:03.557594Z",
     "shell.execute_reply.started": "2021-06-03T15:16:03.411314Z"
    },
    "tags": []
   },
   "outputs": [],
   "source": [
    "# We use sets since it cannot have duplicates\n",
    "def bfs(graph, start):\n",
    "    try:\n",
    "        queue = []\n",
    "        path = []\n",
    "        visited = set()\n",
    "        visited.add(start)\n",
    "        queue.append(start)\n",
    "        while queue:\n",
    "            m = queue.pop(0)\n",
    "            path.append(m)\n",
    "            for next in graph[m]-visited:\n",
    "                visited.add(next)\n",
    "                queue.append(next)\n",
    "        return path\n",
    "    except KeyError:\n",
    "        print(\"Node\", m, \"does not exist\")\n",
    "        return [None]"
   ]
  },
  {
   "cell_type": "code",
   "execution_count": 21,
   "id": "64d5b0a7-e2d5-412b-bb68-b56ddcecc650",
   "metadata": {
    "execution": {
     "iopub.execute_input": "2021-06-03T15:16:03.560993Z",
     "iopub.status.busy": "2021-06-03T15:16:03.560562Z",
     "iopub.status.idle": "2021-06-03T15:16:03.688211Z",
     "shell.execute_reply": "2021-06-03T15:16:03.687045Z",
     "shell.execute_reply.started": "2021-06-03T15:16:03.560923Z"
    },
    "tags": []
   },
   "outputs": [
    {
     "name": "stdout",
     "output_type": "stream",
     "text": [
      "Path:  1 3 2 4 5 "
     ]
    }
   ],
   "source": [
    "visited = bfs(graph_1, '1')\n",
    "print(\"Path: \", end=\" \")\n",
    "for v in visited: print(v, end=\" \")"
   ]
  },
  {
   "cell_type": "markdown",
   "id": "dcff564c-8f6a-4afb-bda2-b7a2ea1abca0",
   "metadata": {
    "tags": []
   },
   "source": [
    "## Directed Graphs"
   ]
  },
  {
   "cell_type": "markdown",
   "id": "1742d6ba-3cba-4b5e-8205-690100e40207",
   "metadata": {
    "tags": []
   },
   "source": [
    "### Dijkstra's algorithm (Shortest Path from source to all vertices)"
   ]
  },
  {
   "cell_type": "markdown",
   "id": "58a3377f-719d-43a4-84c7-14fccc377c02",
   "metadata": {
    "tags": []
   },
   "source": [
    "Given a graph and a source vertex in the graph, find shortest paths from source to all vertices in the given graph. **Works only on Positive Weighted Graphs**.\n",
    "#### Resources\n",
    "- [YouTube: Dijkstra's algorithm in 3 minutes — Review and example](https://www.youtube.com/watch?v=_lHSawdgXpI)"
   ]
  },
  {
   "cell_type": "code",
   "execution_count": 22,
   "id": "7191ef07-7484-45d0-90c3-b434f8e16093",
   "metadata": {
    "execution": {
     "iopub.execute_input": "2021-06-03T15:16:03.690234Z",
     "iopub.status.busy": "2021-06-03T15:16:03.689845Z",
     "iopub.status.idle": "2021-06-03T15:16:03.802743Z",
     "shell.execute_reply": "2021-06-03T15:16:03.801583Z",
     "shell.execute_reply.started": "2021-06-03T15:16:03.690185Z"
    },
    "tags": []
   },
   "outputs": [],
   "source": [
    "# For Visualizing Graphs\n",
    "def display_wd_graph(graph, height=200):\n",
    "    text =\"rankdir=LR; overlap=scale;\"\n",
    "    for i in graph:\n",
    "        for j in graph[i]:\n",
    "            w_t = '[label=\"'+str(graph[i][j])+'\"];'\n",
    "            text += arrow_string(i, j)[:-1] + w_t\n",
    "    visualize(text,height)"
   ]
  },
  {
   "cell_type": "code",
   "execution_count": 23,
   "id": "66e7bd39-16a3-47ef-aaed-9a0875b05722",
   "metadata": {
    "execution": {
     "iopub.execute_input": "2021-06-03T15:16:03.804026Z",
     "iopub.status.busy": "2021-06-03T15:16:03.803802Z",
     "iopub.status.idle": "2021-06-03T15:16:03.914665Z",
     "shell.execute_reply": "2021-06-03T15:16:03.913267Z",
     "shell.execute_reply.started": "2021-06-03T15:16:03.804000Z"
    },
    "tags": []
   },
   "outputs": [],
   "source": [
    "# Weigted Graphs\n",
    "graph_wd_1 = {\n",
    "    'A': {'C': 5, 'D': 1, 'E': 2}, \n",
    "    'B': {'G': 3, 'H': 1}, \n",
    "    'C': {'A': 5, 'D': 3, 'I': 2},\n",
    "    'D': {'A': 1, 'C': 3, 'H': 2}, \n",
    "    'E': {'A': 2, 'F': 3},\n",
    "    'F': {'E': 3, 'G': 1}, \n",
    "    'G': {'B': 3, 'F': 1, 'H': 2}, \n",
    "    'H': {'B': 1, 'D': 2, 'G': 2, 'I': 2},\n",
    "    'I': {'C': 2, 'H': 2}}\n",
    "\n",
    "graph_wd_2 = {\n",
    "    'B': {'A': 5, 'D': 1, 'G': 2},\n",
    "    'A': {'B': 5, 'D': 3, 'E': 12, 'F' :5},\n",
    "    'D': {'B': 1, 'G': 1, 'E': 1, 'A': 3},\n",
    "    'G': {'B': 2, 'D': 1, 'C': 2},\n",
    "    'C': {'G': 2, 'E': 1, 'F': 16},\n",
    "    'E': {'A': 12, 'D': 1, 'C': 1, 'F': 2},\n",
    "    'F': {'A': 5, 'E': 2, 'C': 16}}"
   ]
  },
  {
   "cell_type": "code",
   "execution_count": 24,
   "id": "5b3db72e-c9d5-4d65-a3c9-3a228c3208ba",
   "metadata": {
    "execution": {
     "iopub.execute_input": "2021-06-03T15:16:03.917072Z",
     "iopub.status.busy": "2021-06-03T15:16:03.916589Z",
     "iopub.status.idle": "2021-06-03T15:16:04.067941Z",
     "shell.execute_reply": "2021-06-03T15:16:04.067134Z",
     "shell.execute_reply.started": "2021-06-03T15:16:03.917015Z"
    },
    "tags": []
   },
   "outputs": [
    {
     "data": {
      "text/html": [
       "<br><?xml version=\"1.0\" encoding=\"UTF-8\" standalone=\"no\"?>\n",
       "<!DOCTYPE svg PUBLIC \"-//W3C//DTD SVG 1.1//EN\"\n",
       " \"http://www.w3.org/Graphics/SVG/1.1/DTD/svg11.dtd\">\n",
       "<!-- Generated by graphviz version 2.43.0 (0)\n",
       " -->\n",
       "<!-- Title: BST_TEMP Pages: 1 -->\n",
       "<svg height=\"300pt\" height=\"300pt\"\n",
       " viewBox=\"0.00 0.00 658.00 561.00\" xmlns=\"http://www.w3.org/2000/svg\" xmlns:xlink=\"http://www.w3.org/1999/xlink\">\n",
       "<g id=\"graph0\" class=\"graph\" transform=\"scale(1 1) rotate(0) translate(4 557)\">\n",
       "<title>BST_TEMP</title>\n",
       "<polygon fill=\"white\" stroke=\"transparent\" points=\"-4,4 -4,-557 654,-557 654,4 -4,4\"/>\n",
       "<!-- B -->\n",
       "<g id=\"node1\" class=\"node\">\n",
       "<title>B</title>\n",
       "<ellipse fill=\"none\" stroke=\"black\" cx=\"27\" cy=\"-431\" rx=\"27\" ry=\"18\"/>\n",
       "<text text-anchor=\"middle\" x=\"27\" y=\"-427.3\" font-family=\"Times,serif\" font-size=\"14.00\">B</text>\n",
       "</g>\n",
       "<!-- A -->\n",
       "<g id=\"node2\" class=\"node\">\n",
       "<title>A</title>\n",
       "<ellipse fill=\"none\" stroke=\"black\" cx=\"124\" cy=\"-289\" rx=\"27\" ry=\"18\"/>\n",
       "<text text-anchor=\"middle\" x=\"124\" y=\"-285.3\" font-family=\"Times,serif\" font-size=\"14.00\">A</text>\n",
       "</g>\n",
       "<!-- B&#45;&gt;A -->\n",
       "<g id=\"edge1\" class=\"edge\">\n",
       "<title>B&#45;&gt;A</title>\n",
       "<path fill=\"none\" stroke=\"black\" d=\"M38.9,-414.71C55.42,-390.02 86.92,-342.93 106.33,-313.92\"/>\n",
       "<polygon fill=\"black\" stroke=\"black\" points=\"109.29,-315.79 111.94,-305.54 103.47,-311.9 109.29,-315.79\"/>\n",
       "<text text-anchor=\"middle\" x=\"75.5\" y=\"-367.8\" font-family=\"Times,serif\" font-size=\"14.00\">5</text>\n",
       "</g>\n",
       "<!-- D -->\n",
       "<g id=\"node3\" class=\"node\">\n",
       "<title>D</title>\n",
       "<ellipse fill=\"none\" stroke=\"black\" cx=\"526\" cy=\"-330\" rx=\"27\" ry=\"18\"/>\n",
       "<text text-anchor=\"middle\" x=\"526\" y=\"-326.3\" font-family=\"Times,serif\" font-size=\"14.00\">D</text>\n",
       "</g>\n",
       "<!-- B&#45;&gt;D -->\n",
       "<g id=\"edge2\" class=\"edge\">\n",
       "<title>B&#45;&gt;D</title>\n",
       "<path fill=\"none\" stroke=\"black\" d=\"M33.58,-448.64C40.18,-467.02 52.76,-495.65 72,-514 90.13,-531.29 97.95,-538 123,-538 123,-538 123,-538 430,-538 508.13,-538 522.28,-415.06 524.64,-358.21\"/>\n",
       "<polygon fill=\"black\" stroke=\"black\" points=\"528.15,-358.2 524.97,-348.09 521.15,-357.98 528.15,-358.2\"/>\n",
       "<text text-anchor=\"middle\" x=\"273\" y=\"-541.8\" font-family=\"Times,serif\" font-size=\"14.00\">1</text>\n",
       "</g>\n",
       "<!-- G -->\n",
       "<g id=\"node4\" class=\"node\">\n",
       "<title>G</title>\n",
       "<ellipse fill=\"none\" stroke=\"black\" cx=\"429\" cy=\"-279\" rx=\"27\" ry=\"18\"/>\n",
       "<text text-anchor=\"middle\" x=\"429\" y=\"-275.3\" font-family=\"Times,serif\" font-size=\"14.00\">G</text>\n",
       "</g>\n",
       "<!-- B&#45;&gt;G -->\n",
       "<g id=\"edge3\" class=\"edge\">\n",
       "<title>B&#45;&gt;G</title>\n",
       "<path fill=\"none\" stroke=\"black\" d=\"M50.18,-440.68C69.14,-448.07 97.35,-457 123,-457 123,-457 123,-457 326,-457 394.19,-457 417.43,-357.45 424.82,-307.24\"/>\n",
       "<polygon fill=\"black\" stroke=\"black\" points=\"428.33,-307.43 426.2,-297.05 421.39,-306.49 428.33,-307.43\"/>\n",
       "<text text-anchor=\"middle\" x=\"221\" y=\"-460.8\" font-family=\"Times,serif\" font-size=\"14.00\">2</text>\n",
       "</g>\n",
       "<!-- A&#45;&gt;B -->\n",
       "<g id=\"edge4\" class=\"edge\">\n",
       "<title>A&#45;&gt;B</title>\n",
       "<path fill=\"none\" stroke=\"black\" d=\"M105.29,-302.36C94.63,-311.06 81.36,-323.16 72,-336 56.7,-356.98 44.78,-384.13 37.22,-404.03\"/>\n",
       "<polygon fill=\"black\" stroke=\"black\" points=\"33.93,-402.84 33.77,-413.43 40.5,-405.25 33.93,-402.84\"/>\n",
       "<text text-anchor=\"middle\" x=\"75.5\" y=\"-339.8\" font-family=\"Times,serif\" font-size=\"14.00\">5</text>\n",
       "</g>\n",
       "<!-- A&#45;&gt;D -->\n",
       "<g id=\"edge5\" class=\"edge\">\n",
       "<title>A&#45;&gt;D</title>\n",
       "<path fill=\"none\" stroke=\"black\" d=\"M138.5,-304.27C146.51,-312.23 157.35,-321.27 169,-326 294.93,-377.12 338.18,-343.11 474,-348 477.11,-348.11 477.95,-348.6 481,-348 485.49,-347.12 490.11,-345.77 494.58,-344.2\"/>\n",
       "<polygon fill=\"black\" stroke=\"black\" points=\"495.99,-347.41 504.03,-340.51 493.44,-340.89 495.99,-347.41\"/>\n",
       "<text text-anchor=\"middle\" x=\"325\" y=\"-357.8\" font-family=\"Times,serif\" font-size=\"14.00\">3</text>\n",
       "</g>\n",
       "<!-- E -->\n",
       "<g id=\"node5\" class=\"node\">\n",
       "<title>E</title>\n",
       "<ellipse fill=\"none\" stroke=\"black\" cx=\"623\" cy=\"-163\" rx=\"27\" ry=\"18\"/>\n",
       "<text text-anchor=\"middle\" x=\"623\" y=\"-159.3\" font-family=\"Times,serif\" font-size=\"14.00\">E</text>\n",
       "</g>\n",
       "<!-- A&#45;&gt;E -->\n",
       "<g id=\"edge6\" class=\"edge\">\n",
       "<title>A&#45;&gt;E</title>\n",
       "<path fill=\"none\" stroke=\"black\" d=\"M139.12,-273.88C147.16,-266.17 157.83,-257.33 169,-252 210.78,-232.08 532.71,-182.52 578,-173 581.04,-172.36 584.2,-171.68 587.37,-170.98\"/>\n",
       "<polygon fill=\"black\" stroke=\"black\" points=\"588.37,-174.35 597.36,-168.75 586.84,-167.51 588.37,-174.35\"/>\n",
       "<text text-anchor=\"middle\" x=\"377\" y=\"-212.8\" font-family=\"Times,serif\" font-size=\"14.00\">12</text>\n",
       "</g>\n",
       "<!-- F -->\n",
       "<g id=\"node6\" class=\"node\">\n",
       "<title>F</title>\n",
       "<ellipse fill=\"none\" stroke=\"black\" cx=\"221\" cy=\"-135\" rx=\"27\" ry=\"18\"/>\n",
       "<text text-anchor=\"middle\" x=\"221\" y=\"-131.3\" font-family=\"Times,serif\" font-size=\"14.00\">F</text>\n",
       "</g>\n",
       "<!-- A&#45;&gt;F -->\n",
       "<g id=\"edge7\" class=\"edge\">\n",
       "<title>A&#45;&gt;F</title>\n",
       "<path fill=\"none\" stroke=\"black\" d=\"M126.03,-270.74C128.61,-242.15 137.6,-186.73 169,-154 173.51,-149.3 179.28,-145.76 185.32,-143.08\"/>\n",
       "<polygon fill=\"black\" stroke=\"black\" points=\"186.7,-146.3 194.87,-139.56 184.28,-139.74 186.7,-146.3\"/>\n",
       "<text text-anchor=\"middle\" x=\"172.5\" y=\"-157.8\" font-family=\"Times,serif\" font-size=\"14.00\">5</text>\n",
       "</g>\n",
       "<!-- D&#45;&gt;B -->\n",
       "<g id=\"edge8\" class=\"edge\">\n",
       "<title>D&#45;&gt;B</title>\n",
       "<path fill=\"none\" stroke=\"black\" d=\"M523.37,-348.19C518.35,-392.05 498.97,-500 430,-500 123,-500 123,-500 123,-500 91.47,-500 63.36,-474.81 46.04,-454.87\"/>\n",
       "<polygon fill=\"black\" stroke=\"black\" points=\"48.6,-452.47 39.52,-447 43.21,-456.94 48.6,-452.47\"/>\n",
       "<text text-anchor=\"middle\" x=\"273\" y=\"-503.8\" font-family=\"Times,serif\" font-size=\"14.00\">1</text>\n",
       "</g>\n",
       "<!-- D&#45;&gt;A -->\n",
       "<g id=\"edge11\" class=\"edge\">\n",
       "<title>D&#45;&gt;A</title>\n",
       "<path fill=\"none\" stroke=\"black\" d=\"M499.12,-327.35C429.93,-320.26 240.55,-300.84 160.97,-292.69\"/>\n",
       "<polygon fill=\"black\" stroke=\"black\" points=\"161.24,-289.2 150.94,-291.66 160.53,-296.16 161.24,-289.2\"/>\n",
       "<text text-anchor=\"middle\" x=\"325\" y=\"-315.8\" font-family=\"Times,serif\" font-size=\"14.00\">3</text>\n",
       "</g>\n",
       "<!-- D&#45;&gt;G -->\n",
       "<g id=\"edge9\" class=\"edge\">\n",
       "<title>D&#45;&gt;G</title>\n",
       "<path fill=\"none\" stroke=\"black\" d=\"M518.29,-312.49C511.44,-297.37 499.22,-276.5 481,-267 474.71,-263.72 467.53,-263.55 460.57,-264.9\"/>\n",
       "<polygon fill=\"black\" stroke=\"black\" points=\"459.3,-261.63 450.68,-267.78 461.26,-268.35 459.3,-261.63\"/>\n",
       "<text text-anchor=\"middle\" x=\"477.5\" y=\"-270.8\" font-family=\"Times,serif\" font-size=\"14.00\">1</text>\n",
       "</g>\n",
       "<!-- D&#45;&gt;E -->\n",
       "<g id=\"edge10\" class=\"edge\">\n",
       "<title>D&#45;&gt;E</title>\n",
       "<path fill=\"none\" stroke=\"black\" d=\"M547.52,-318.78C557.92,-312.18 570,-302.98 578,-292 600.24,-261.47 611.85,-218.87 617.44,-191.11\"/>\n",
       "<polygon fill=\"black\" stroke=\"black\" points=\"620.89,-191.73 619.3,-181.25 614.01,-190.43 620.89,-191.73\"/>\n",
       "<text text-anchor=\"middle\" x=\"574.5\" y=\"-302.8\" font-family=\"Times,serif\" font-size=\"14.00\">1</text>\n",
       "</g>\n",
       "<!-- G&#45;&gt;B -->\n",
       "<g id=\"edge12\" class=\"edge\">\n",
       "<title>G&#45;&gt;B</title>\n",
       "<path fill=\"none\" stroke=\"black\" d=\"M422.95,-296.66C411.77,-331.55 381.43,-406 326,-406 123,-406 123,-406 123,-406 101.42,-406 77.95,-412.11 59.75,-418.29\"/>\n",
       "<polygon fill=\"black\" stroke=\"black\" points=\"58.46,-415.03 50.22,-421.69 60.81,-421.63 58.46,-415.03\"/>\n",
       "<text text-anchor=\"middle\" x=\"221\" y=\"-409.8\" font-family=\"Times,serif\" font-size=\"14.00\">2</text>\n",
       "</g>\n",
       "<!-- G&#45;&gt;D -->\n",
       "<g id=\"edge13\" class=\"edge\">\n",
       "<title>G&#45;&gt;D</title>\n",
       "<path fill=\"none\" stroke=\"black\" d=\"M451.2,-289.54C460.41,-294.19 471.29,-299.77 481,-305 485.93,-307.66 491.13,-310.54 496.17,-313.37\"/>\n",
       "<polygon fill=\"black\" stroke=\"black\" points=\"494.53,-316.47 504.95,-318.36 497.98,-310.38 494.53,-316.47\"/>\n",
       "<text text-anchor=\"middle\" x=\"477.5\" y=\"-308.8\" font-family=\"Times,serif\" font-size=\"14.00\">1</text>\n",
       "</g>\n",
       "<!-- C -->\n",
       "<g id=\"node7\" class=\"node\">\n",
       "<title>C</title>\n",
       "<ellipse fill=\"none\" stroke=\"black\" cx=\"325\" cy=\"-136\" rx=\"27\" ry=\"18\"/>\n",
       "<text text-anchor=\"middle\" x=\"325\" y=\"-132.3\" font-family=\"Times,serif\" font-size=\"14.00\">C</text>\n",
       "</g>\n",
       "<!-- G&#45;&gt;C -->\n",
       "<g id=\"edge14\" class=\"edge\">\n",
       "<title>G&#45;&gt;C</title>\n",
       "<path fill=\"none\" stroke=\"black\" d=\"M426.76,-260.78C423.91,-233.48 414.57,-182.05 384,-153 377.89,-147.19 369.9,-143.36 361.82,-140.83\"/>\n",
       "<polygon fill=\"black\" stroke=\"black\" points=\"362.58,-137.41 352.03,-138.34 360.86,-144.19 362.58,-137.41\"/>\n",
       "<text text-anchor=\"middle\" x=\"377\" y=\"-156.8\" font-family=\"Times,serif\" font-size=\"14.00\">2</text>\n",
       "</g>\n",
       "<!-- E&#45;&gt;A -->\n",
       "<g id=\"edge18\" class=\"edge\">\n",
       "<title>E&#45;&gt;A</title>\n",
       "<path fill=\"none\" stroke=\"black\" d=\"M602.66,-174.94C595.12,-179.34 586.3,-184.18 578,-188 567.27,-192.93 564.35,-193.75 553,-197 409.53,-238.05 234.37,-270.25 160.52,-283.03\"/>\n",
       "<polygon fill=\"black\" stroke=\"black\" points=\"159.64,-279.63 150.38,-284.77 160.82,-286.53 159.64,-279.63\"/>\n",
       "<text text-anchor=\"middle\" x=\"377\" y=\"-245.8\" font-family=\"Times,serif\" font-size=\"14.00\">12</text>\n",
       "</g>\n",
       "<!-- E&#45;&gt;D -->\n",
       "<g id=\"edge19\" class=\"edge\">\n",
       "<title>E&#45;&gt;D</title>\n",
       "<path fill=\"none\" stroke=\"black\" d=\"M613.57,-179.92C604.95,-197.01 591.01,-224.1 578,-247 566.72,-266.85 553.15,-288.85 542.85,-305.21\"/>\n",
       "<polygon fill=\"black\" stroke=\"black\" points=\"539.89,-303.34 537.5,-313.66 545.8,-307.09 539.89,-303.34\"/>\n",
       "<text text-anchor=\"middle\" x=\"574.5\" y=\"-262.8\" font-family=\"Times,serif\" font-size=\"14.00\">1</text>\n",
       "</g>\n",
       "<!-- E&#45;&gt;F -->\n",
       "<g id=\"edge21\" class=\"edge\">\n",
       "<title>E&#45;&gt;F</title>\n",
       "<path fill=\"none\" stroke=\"black\" d=\"M620.02,-144.93C614.27,-102.49 593.49,0 527,0 324,0 324,0 324,0 270.61,0 241.61,-68.05 229.29,-107.52\"/>\n",
       "<polygon fill=\"black\" stroke=\"black\" points=\"225.86,-106.77 226.38,-117.35 232.57,-108.76 225.86,-106.77\"/>\n",
       "<text text-anchor=\"middle\" x=\"429\" y=\"-3.8\" font-family=\"Times,serif\" font-size=\"14.00\">2</text>\n",
       "</g>\n",
       "<!-- E&#45;&gt;C -->\n",
       "<g id=\"edge20\" class=\"edge\">\n",
       "<title>E&#45;&gt;C</title>\n",
       "<path fill=\"none\" stroke=\"black\" d=\"M598.08,-155.85C570.25,-147.94 522.78,-135.68 481,-131 440.37,-126.45 393.41,-129.05 361.92,-131.93\"/>\n",
       "<polygon fill=\"black\" stroke=\"black\" points=\"361.49,-128.46 351.87,-132.9 362.16,-135.42 361.49,-128.46\"/>\n",
       "<text text-anchor=\"middle\" x=\"477.5\" y=\"-134.8\" font-family=\"Times,serif\" font-size=\"14.00\">1</text>\n",
       "</g>\n",
       "<!-- F&#45;&gt;A -->\n",
       "<g id=\"edge22\" class=\"edge\">\n",
       "<title>F&#45;&gt;A</title>\n",
       "<path fill=\"none\" stroke=\"black\" d=\"M206.21,-150.33C195.32,-162.86 180.16,-181.35 169,-199 156.16,-219.31 144.36,-243.91 136.22,-262.26\"/>\n",
       "<polygon fill=\"black\" stroke=\"black\" points=\"132.99,-260.92 132.2,-271.48 139.41,-263.71 132.99,-260.92\"/>\n",
       "<text text-anchor=\"middle\" x=\"172.5\" y=\"-202.8\" font-family=\"Times,serif\" font-size=\"14.00\">5</text>\n",
       "</g>\n",
       "<!-- F&#45;&gt;E -->\n",
       "<g id=\"edge23\" class=\"edge\">\n",
       "<title>F&#45;&gt;E</title>\n",
       "<path fill=\"none\" stroke=\"black\" d=\"M231.91,-118.4C247.94,-93.92 282.02,-51 324,-51 324,-51 324,-51 527,-51 571.37,-51 599.31,-102.74 612.66,-135.89\"/>\n",
       "<polygon fill=\"black\" stroke=\"black\" points=\"609.49,-137.41 616.34,-145.5 616.03,-134.91 609.49,-137.41\"/>\n",
       "<text text-anchor=\"middle\" x=\"429\" y=\"-54.8\" font-family=\"Times,serif\" font-size=\"14.00\">2</text>\n",
       "</g>\n",
       "<!-- F&#45;&gt;C -->\n",
       "<g id=\"edge24\" class=\"edge\">\n",
       "<title>F&#45;&gt;C</title>\n",
       "<path fill=\"none\" stroke=\"black\" d=\"M247.02,-140.35C253.2,-141.45 259.81,-142.44 266,-143 273.43,-143.67 281.38,-143.38 288.94,-142.62\"/>\n",
       "<polygon fill=\"black\" stroke=\"black\" points=\"289.44,-146.08 298.91,-141.34 288.55,-139.14 289.44,-146.08\"/>\n",
       "<text text-anchor=\"middle\" x=\"273\" y=\"-147.8\" font-family=\"Times,serif\" font-size=\"14.00\">16</text>\n",
       "</g>\n",
       "<!-- C&#45;&gt;G -->\n",
       "<g id=\"edge15\" class=\"edge\">\n",
       "<title>C&#45;&gt;G</title>\n",
       "<path fill=\"none\" stroke=\"black\" d=\"M343.28,-149.59C355.7,-159.98 372.27,-175.17 384,-191 397.99,-209.87 409.65,-233.87 417.44,-252.03\"/>\n",
       "<polygon fill=\"black\" stroke=\"black\" points=\"414.29,-253.57 421.36,-261.45 420.75,-250.88 414.29,-253.57\"/>\n",
       "<text text-anchor=\"middle\" x=\"377\" y=\"-194.8\" font-family=\"Times,serif\" font-size=\"14.00\">2</text>\n",
       "</g>\n",
       "<!-- C&#45;&gt;E -->\n",
       "<g id=\"edge16\" class=\"edge\">\n",
       "<title>C&#45;&gt;E</title>\n",
       "<path fill=\"none\" stroke=\"black\" d=\"M351.99,-138.21C362,-139.06 373.53,-140.06 384,-141 455.51,-147.39 539.08,-155.19 585.74,-159.58\"/>\n",
       "<polygon fill=\"black\" stroke=\"black\" points=\"585.66,-163.09 595.94,-160.54 586.32,-156.12 585.66,-163.09\"/>\n",
       "<text text-anchor=\"middle\" x=\"477.5\" y=\"-153.8\" font-family=\"Times,serif\" font-size=\"14.00\">1</text>\n",
       "</g>\n",
       "<!-- C&#45;&gt;F -->\n",
       "<g id=\"edge17\" class=\"edge\">\n",
       "<title>C&#45;&gt;F</title>\n",
       "<path fill=\"none\" stroke=\"black\" d=\"M298.98,-130.65C292.8,-129.55 286.19,-128.56 280,-128 272.57,-127.33 264.62,-127.62 257.06,-128.38\"/>\n",
       "<polygon fill=\"black\" stroke=\"black\" points=\"256.56,-124.92 247.09,-129.66 257.45,-131.86 256.56,-124.92\"/>\n",
       "<text text-anchor=\"middle\" x=\"273\" y=\"-131.8\" font-family=\"Times,serif\" font-size=\"14.00\">16</text>\n",
       "</g>\n",
       "</g>\n",
       "</svg>\n"
      ],
      "text/plain": [
       "<IPython.core.display.HTML object>"
      ]
     },
     "metadata": {},
     "output_type": "display_data"
    }
   ],
   "source": [
    "display_wd_graph(graph_wd_2, 300)"
   ]
  },
  {
   "cell_type": "code",
   "execution_count": 25,
   "id": "dc597a01-14bc-4f20-bc6b-ad752fde8567",
   "metadata": {
    "execution": {
     "iopub.execute_input": "2021-06-03T15:16:04.072468Z",
     "iopub.status.busy": "2021-06-03T15:16:04.072142Z",
     "iopub.status.idle": "2021-06-03T15:16:04.116278Z",
     "shell.execute_reply": "2021-06-03T15:16:04.114897Z",
     "shell.execute_reply.started": "2021-06-03T15:16:04.072425Z"
    },
    "tags": []
   },
   "outputs": [],
   "source": [
    "def dijkstras(graph, source):\n",
    "    global cost, parent, visited\n",
    "    cost = {}\n",
    "    parent = {}\n",
    "    visited = set()\n",
    "    # inf imported from numpy\n",
    "    for key in graph.keys(): cost[key] = inf\n",
    "    cost[source] = 0\n",
    "    _dijkstras(graph, source)\n",
    "    cost = sorted(cost.items(), key=operator.itemgetter(1))\n",
    "    return cost\n",
    "\n",
    "\n",
    "def _dijkstras(graph, source):\n",
    "    global cost, parent, visited\n",
    "    if source is None:\n",
    "        return\n",
    "    visited.add(source)\n",
    "    for neighbour in graph[source]:\n",
    "        if graph[source][neighbour] + cost[source] < cost[neighbour]:\n",
    "            cost[neighbour] = graph[source][neighbour] + cost[source]\n",
    "            parent[neighbour] = source\n",
    "        \n",
    "    minw = inf\n",
    "    mink = None\n",
    "    for k in parent.keys():\n",
    "        if minw > cost[k] and k not in visited:\n",
    "            minw = cost[k]\n",
    "            mink = k\n",
    "    _dijkstras(graph, mink)"
   ]
  },
  {
   "cell_type": "code",
   "execution_count": 26,
   "id": "f968a9a7-2b84-4aa0-a0bd-48bfa7733cf8",
   "metadata": {
    "execution": {
     "iopub.execute_input": "2021-06-03T15:16:04.119231Z",
     "iopub.status.busy": "2021-06-03T15:16:04.118720Z",
     "iopub.status.idle": "2021-06-03T15:16:04.320462Z",
     "shell.execute_reply": "2021-06-03T15:16:04.319089Z",
     "shell.execute_reply.started": "2021-06-03T15:16:04.119167Z"
    },
    "tags": []
   },
   "outputs": [
    {
     "data": {
      "text/plain": [
       "[('B', 0), ('D', 1), ('G', 2), ('E', 2), ('C', 3), ('A', 4), ('F', 4)]"
      ]
     },
     "execution_count": 26,
     "metadata": {},
     "output_type": "execute_result"
    }
   ],
   "source": [
    "dijkstras(graph_wd_2, \"B\")"
   ]
  }
 ],
 "metadata": {
  "kernelspec": {
   "display_name": "Python 3",
   "language": "python",
   "name": "python3"
  },
  "language_info": {
   "codemirror_mode": {
    "name": "ipython",
    "version": 3
   },
   "file_extension": ".py",
   "mimetype": "text/x-python",
   "name": "python",
   "nbconvert_exporter": "python",
   "pygments_lexer": "ipython3",
   "version": "3.9.2"
  },
  "toc-autonumbering": true,
  "toc-showcode": false,
  "toc-showmarkdowntxt": false,
  "toc-showtags": false
 },
 "nbformat": 4,
 "nbformat_minor": 5
}
